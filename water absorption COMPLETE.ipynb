{
 "cells": [
  {
   "cell_type": "code",
   "execution_count": 1,
   "id": "d3e1a861",
   "metadata": {},
   "outputs": [
    {
     "name": "stdout",
     "output_type": "stream",
     "text": [
      "3.8.8\n"
     ]
    }
   ],
   "source": [
    "from platform import python_version\n",
    "\n",
    "#ML packages\n",
    "from sklearn.linear_model import LinearRegression\n",
    "from sklearn.metrics import mean_squared_error\n",
    "from sklearn.model_selection import KFold, cross_val_score\n",
    "from sklearn.model_selection import cross_val_predict\n",
    "\n",
    "from sklearn.model_selection import train_test_split\n",
    "from sklearn.preprocessing import StandardScaler\n",
    "\n",
    "#metrics\n",
    "from sklearn.metrics import mean_squared_error\n",
    "from sklearn.metrics import r2_score\n",
    "from sklearn.metrics import explained_variance_score\n",
    "from sklearn.metrics import mean_absolute_error\n",
    "\n",
    "#statistics\n",
    "import statsmodels.api as sm\n",
    "\n",
    "#SVM packages\n",
    "from sklearn.svm import SVR\n",
    "\n",
    "#Random Forest Regressor packages\n",
    "from sklearn.ensemble import RandomForestRegressor\n",
    "\n",
    "#Graphics packages\n",
    "\n",
    "import matplotlib.pyplot as plt\n",
    "import matplotlib as mpl\n",
    "import seaborn as sns\n",
    "import scipy as sp\n",
    "\n",
    "#Scientific computing and tables\n",
    "import numpy as np\n",
    "import pandas as pd\n",
    "#Visualizations\n",
    "import plotly.graph_objects as go # for data visualization\n",
    "import plotly.express as px # for data visualization\n",
    "from sklearn.model_selection import LearningCurveDisplay, learning_curve\n",
    "from sklearn.inspection import permutation_importance\n",
    "\n",
    "\n",
    "%matplotlib inline\n",
    "print(python_version())"
   ]
  },
  {
   "cell_type": "code",
   "execution_count": 2,
   "id": "0069297b",
   "metadata": {},
   "outputs": [
    {
     "data": {
      "text/plain": [
       "'/Users/jmpessoa'"
      ]
     },
     "execution_count": 2,
     "metadata": {},
     "output_type": "execute_result"
    }
   ],
   "source": [
    "pwd"
   ]
  },
  {
   "cell_type": "code",
   "execution_count": 3,
   "id": "7d1872be",
   "metadata": {},
   "outputs": [],
   "source": [
    "dados = pd.read_csv('data_water_absorption.csv')"
   ]
  },
  {
   "cell_type": "code",
   "execution_count": 4,
   "id": "2d4cc9cb",
   "metadata": {},
   "outputs": [
    {
     "data": {
      "text/html": [
       "<div>\n",
       "<style scoped>\n",
       "    .dataframe tbody tr th:only-of-type {\n",
       "        vertical-align: middle;\n",
       "    }\n",
       "\n",
       "    .dataframe tbody tr th {\n",
       "        vertical-align: top;\n",
       "    }\n",
       "\n",
       "    .dataframe thead th {\n",
       "        text-align: right;\n",
       "    }\n",
       "</style>\n",
       "<table border=\"1\" class=\"dataframe\">\n",
       "  <thead>\n",
       "    <tr style=\"text-align: right;\">\n",
       "      <th></th>\n",
       "      <th>Cement</th>\n",
       "      <th>Sand</th>\n",
       "      <th>Water</th>\n",
       "      <th>√t/√s</th>\n",
       "      <th>Bacteria</th>\n",
       "      <th>Fiber</th>\n",
       "      <th>Water absorption</th>\n",
       "    </tr>\n",
       "  </thead>\n",
       "  <tbody>\n",
       "    <tr>\n",
       "      <th>0</th>\n",
       "      <td>600</td>\n",
       "      <td>1200</td>\n",
       "      <td>270</td>\n",
       "      <td>0.00000</td>\n",
       "      <td>0</td>\n",
       "      <td>0</td>\n",
       "      <td>0.00000</td>\n",
       "    </tr>\n",
       "    <tr>\n",
       "      <th>1</th>\n",
       "      <td>600</td>\n",
       "      <td>1200</td>\n",
       "      <td>270</td>\n",
       "      <td>1.54000</td>\n",
       "      <td>0</td>\n",
       "      <td>0</td>\n",
       "      <td>0.05812</td>\n",
       "    </tr>\n",
       "    <tr>\n",
       "      <th>2</th>\n",
       "      <td>600</td>\n",
       "      <td>1200</td>\n",
       "      <td>270</td>\n",
       "      <td>3.08000</td>\n",
       "      <td>0</td>\n",
       "      <td>0</td>\n",
       "      <td>0.11624</td>\n",
       "    </tr>\n",
       "    <tr>\n",
       "      <th>3</th>\n",
       "      <td>600</td>\n",
       "      <td>1200</td>\n",
       "      <td>270</td>\n",
       "      <td>4.62000</td>\n",
       "      <td>0</td>\n",
       "      <td>0</td>\n",
       "      <td>0.17437</td>\n",
       "    </tr>\n",
       "    <tr>\n",
       "      <th>4</th>\n",
       "      <td>600</td>\n",
       "      <td>1200</td>\n",
       "      <td>270</td>\n",
       "      <td>6.16000</td>\n",
       "      <td>0</td>\n",
       "      <td>0</td>\n",
       "      <td>0.23249</td>\n",
       "    </tr>\n",
       "    <tr>\n",
       "      <th>...</th>\n",
       "      <td>...</td>\n",
       "      <td>...</td>\n",
       "      <td>...</td>\n",
       "      <td>...</td>\n",
       "      <td>...</td>\n",
       "      <td>...</td>\n",
       "      <td>...</td>\n",
       "    </tr>\n",
       "    <tr>\n",
       "      <th>727</th>\n",
       "      <td>600</td>\n",
       "      <td>1200</td>\n",
       "      <td>170</td>\n",
       "      <td>159.14600</td>\n",
       "      <td>2</td>\n",
       "      <td>3</td>\n",
       "      <td>0.89000</td>\n",
       "    </tr>\n",
       "    <tr>\n",
       "      <th>728</th>\n",
       "      <td>600</td>\n",
       "      <td>1200</td>\n",
       "      <td>170</td>\n",
       "      <td>171.32201</td>\n",
       "      <td>2</td>\n",
       "      <td>3</td>\n",
       "      <td>0.94250</td>\n",
       "    </tr>\n",
       "    <tr>\n",
       "      <th>729</th>\n",
       "      <td>600</td>\n",
       "      <td>1200</td>\n",
       "      <td>170</td>\n",
       "      <td>183.49800</td>\n",
       "      <td>2</td>\n",
       "      <td>3</td>\n",
       "      <td>0.99500</td>\n",
       "    </tr>\n",
       "    <tr>\n",
       "      <th>730</th>\n",
       "      <td>600</td>\n",
       "      <td>1200</td>\n",
       "      <td>170</td>\n",
       "      <td>195.67401</td>\n",
       "      <td>2</td>\n",
       "      <td>3</td>\n",
       "      <td>1.04750</td>\n",
       "    </tr>\n",
       "    <tr>\n",
       "      <th>731</th>\n",
       "      <td>600</td>\n",
       "      <td>1200</td>\n",
       "      <td>170</td>\n",
       "      <td>207.85000</td>\n",
       "      <td>2</td>\n",
       "      <td>3</td>\n",
       "      <td>1.10000</td>\n",
       "    </tr>\n",
       "  </tbody>\n",
       "</table>\n",
       "<p>732 rows × 7 columns</p>\n",
       "</div>"
      ],
      "text/plain": [
       "     Cement  Sand  Water      √t/√s  Bacteria  Fiber  Water absorption\n",
       "0       600  1200    270    0.00000         0      0           0.00000\n",
       "1       600  1200    270    1.54000         0      0           0.05812\n",
       "2       600  1200    270    3.08000         0      0           0.11624\n",
       "3       600  1200    270    4.62000         0      0           0.17437\n",
       "4       600  1200    270    6.16000         0      0           0.23249\n",
       "..      ...   ...    ...        ...       ...    ...               ...\n",
       "727     600  1200    170  159.14600         2      3           0.89000\n",
       "728     600  1200    170  171.32201         2      3           0.94250\n",
       "729     600  1200    170  183.49800         2      3           0.99500\n",
       "730     600  1200    170  195.67401         2      3           1.04750\n",
       "731     600  1200    170  207.85000         2      3           1.10000\n",
       "\n",
       "[732 rows x 7 columns]"
      ]
     },
     "execution_count": 4,
     "metadata": {},
     "output_type": "execute_result"
    }
   ],
   "source": [
    "#Exploratory Analysis\n",
    "dados"
   ]
  },
  {
   "cell_type": "code",
   "execution_count": 5,
   "id": "d86a8665",
   "metadata": {},
   "outputs": [
    {
     "name": "stdout",
     "output_type": "stream",
     "text": [
      "Cement                int64\n",
      "Sand                  int64\n",
      "Water                 int64\n",
      "√t/√s               float64\n",
      "Bacteria              int64\n",
      "Fiber                 int64\n",
      "Water absorption    float64\n",
      "dtype: object\n"
     ]
    }
   ],
   "source": [
    "print(dados.dtypes)"
   ]
  },
  {
   "cell_type": "code",
   "execution_count": 6,
   "id": "3d149ccc",
   "metadata": {},
   "outputs": [
    {
     "data": {
      "text/plain": [
       "<AxesSubplot:>"
      ]
     },
     "execution_count": 6,
     "metadata": {},
     "output_type": "execute_result"
    },
    {
     "data": {
      "image/png": "[encoded data removed]",
      "text/plain": [
       "<Figure size 432x288 with 1 Axes>"
      ]
     },
     "metadata": {
      "needs_background": "light"
     },
     "output_type": "display_data"
    }
   ],
   "source": [
    "dados[\"Cement\"].hist()"
   ]
  },
  {
   "cell_type": "code",
   "execution_count": 7,
   "id": "e0af14ef",
   "metadata": {},
   "outputs": [
    {
     "data": {
      "text/plain": [
       "<AxesSubplot:>"
      ]
     },
     "execution_count": 7,
     "metadata": {},
     "output_type": "execute_result"
    },
    {
     "data": {
      "image/png": "[encoded data removed]",
      "text/plain": [
       "<Figure size 432x288 with 1 Axes>"
      ]
     },
     "metadata": {
      "needs_background": "light"
     },
     "output_type": "display_data"
    }
   ],
   "source": [
    "dados[\"Sand\"].hist()"
   ]
  },
  {
   "cell_type": "code",
   "execution_count": 8,
   "id": "f064e811",
   "metadata": {},
   "outputs": [
    {
     "data": {
      "text/plain": [
       "<AxesSubplot:>"
      ]
     },
     "execution_count": 8,
     "metadata": {},
     "output_type": "execute_result"
    },
    {
     "data": {
      "image/png": "[encoded data removed]",
      "text/plain": [
       "<Figure size 432x288 with 1 Axes>"
      ]
     },
     "metadata": {
      "needs_background": "light"
     },
     "output_type": "display_data"
    }
   ],
   "source": [
    "dados[\"Water\"].hist()"
   ]
  },
  {
   "cell_type": "code",
   "execution_count": 9,
   "id": "9330f0c9",
   "metadata": {},
   "outputs": [
    {
     "data": {
      "text/plain": [
       "<AxesSubplot:>"
      ]
     },
     "execution_count": 9,
     "metadata": {},
     "output_type": "execute_result"
    },
    {
     "data": {
      "image/png": "[encoded data removed]",
      "text/plain": [
       "<Figure size 432x288 with 1 Axes>"
      ]
     },
     "metadata": {
      "needs_background": "light"
     },
     "output_type": "display_data"
    }
   ],
   "source": [
    "dados[\"Bacteria\"].hist()"
   ]
  },
  {
   "cell_type": "code",
   "execution_count": 11,
   "id": "ecb7941d",
   "metadata": {},
   "outputs": [
    {
     "data": {
      "text/plain": [
       "<AxesSubplot:>"
      ]
     },
     "execution_count": 11,
     "metadata": {},
     "output_type": "execute_result"
    },
    {
     "data": {
      "image/png": "[encoded data removed]",
      "text/plain": [
       "<Figure size 432x288 with 1 Axes>"
      ]
     },
     "metadata": {
      "needs_background": "light"
     },
     "output_type": "display_data"
    }
   ],
   "source": [
    "dados[\"√t/√s\"].hist()"
   ]
  },
  {
   "cell_type": "code",
   "execution_count": 12,
   "id": "617888df",
   "metadata": {},
   "outputs": [
    {
     "data": {
      "text/plain": [
       "<AxesSubplot:>"
      ]
     },
     "execution_count": 12,
     "metadata": {},
     "output_type": "execute_result"
    },
    {
     "data": {
      "image/png": "[encoded data removed]",
      "text/plain": [
       "<Figure size 432x288 with 1 Axes>"
      ]
     },
     "metadata": {
      "needs_background": "light"
     },
     "output_type": "display_data"
    }
   ],
   "source": [
    "dados[\"Fiber\"].hist()"
   ]
  },
  {
   "cell_type": "code",
   "execution_count": 13,
   "id": "ba20e922",
   "metadata": {},
   "outputs": [
    {
     "data": {
      "text/plain": [
       "<AxesSubplot:>"
      ]
     },
     "execution_count": 13,
     "metadata": {},
     "output_type": "execute_result"
    },
    {
     "data": {
      "image/png": "[encoded data removed]",
      "text/plain": [
       "<Figure size 432x288 with 1 Axes>"
      ]
     },
     "metadata": {
      "needs_background": "light"
     },
     "output_type": "display_data"
    }
   ],
   "source": [
    "dados[\"Water absorption\"].hist()"
   ]
  },
  {
   "cell_type": "code",
   "execution_count": 14,
   "id": "625d7c1f",
   "metadata": {},
   "outputs": [
    {
     "name": "stdout",
     "output_type": "stream",
     "text": [
      "[0.      0.05812 0.11624 0.17437 0.23249 0.29061 0.33431 0.37801 0.42171\n",
      " 0.46541 0.50911 0.53042 0.55173 0.57304 0.59435 0.61566 0.63716 0.65866\n",
      " 0.68015 0.70165 0.72315 0.74561 0.76808 0.79054 0.81301 0.83547 0.85414\n",
      " 0.8728  0.89147 0.91013 0.9288  0.95299 0.97718 1.00138 1.02557 1.04976\n",
      " 1.05936 1.06896 1.07855 1.08815 1.09775 1.11351 1.12928 1.14504 1.16081\n",
      " 1.17657 1.1928  1.20903 1.22527 1.2415  1.25773 1.27736 1.29699 1.31663\n",
      " 1.33626 1.35589 1.44646 1.53703 1.62759 1.71816 1.80873 0.      0.02874\n",
      " 0.05748 0.08622 0.11496 0.1437  0.16772 0.19175 0.21577 0.2398  0.26382\n",
      " 0.27643 0.28904 0.30164 0.31425 0.32686 0.34481 0.36276 0.3807  0.39865\n",
      " 0.4166  0.43726 0.45792 0.47857 0.49923 0.51989 0.54779 0.57569 0.6036\n",
      " 0.6315  0.6594  0.69571 0.73202 0.76832 0.80463 0.84094 0.86099 0.88104\n",
      " 0.9011  0.92115 0.9412  0.94812 0.95504 0.96196 0.96888 0.9758  0.98144\n",
      " 0.98708 0.99272 0.99836 1.004   1.01106 1.01813 1.02519 1.03226 1.03932\n",
      " 1.0569  1.07448 1.09205 1.10963 1.12721 0.      0.07599 0.15197 0.22796\n",
      " 0.30394 0.37993 0.45029 0.52065 0.59102 0.66138 0.73174 0.7652  0.79865\n",
      " 0.83211 0.86556 0.89902 0.91834 0.93765 0.95697 0.97628 0.9956  1.01055\n",
      " 1.02549 1.04044 1.05538 1.07033 1.08221 1.09409 1.10597 1.11785 1.12973\n",
      " 1.14956 1.16938 1.18921 1.20903 1.22886 1.25161 1.27435 1.2971  1.31984\n",
      " 1.34259 1.35563 1.36868 1.38172 1.39477 1.40781 1.42847 1.44914 1.4698\n",
      " 1.49047 1.51113 1.52091 1.5307  1.54048 1.55027 1.56005 1.6242  1.68836\n",
      " 1.75251 1.81667 1.88082 0.      0.01849 0.03699 0.05548 0.07398 0.09247\n",
      " 0.10389 0.11531 0.12674 0.13816 0.14958 0.15567 0.16176 0.16786 0.17395\n",
      " 0.18004 0.18609 0.19213 0.19818 0.20422 0.21027 0.2138  0.21733 0.22086\n",
      " 0.22439 0.22792 0.23362 0.23932 0.24502 0.25072 0.25642 0.26737 0.27831\n",
      " 0.28926 0.3002  0.31115 0.31948 0.32781 0.33613 0.34446 0.35279 0.3584\n",
      " 0.36401 0.36962 0.37523 0.38084 0.38464 0.38843 0.39223 0.39602 0.39982\n",
      " 0.40235 0.40488 0.40741 0.40994 0.41247 0.43654 0.46061 0.48469 0.50876\n",
      " 0.53283 0.      0.076   0.152   0.228   0.304   0.38    0.449   0.518\n",
      " 0.587   0.656   0.725   0.76    0.795   0.83    0.865   0.9     0.915\n",
      " 0.93    0.945   0.96    0.975   0.994   1.013   1.032   1.051   1.07\n",
      " 1.076   1.082   1.088   1.094   1.1     1.1275  1.155   1.1825  1.21\n",
      " 1.2375  1.259   1.2805  1.302   1.3235  1.345   1.362   1.379   1.396\n",
      " 1.413   1.43    1.4465  1.463   1.4795  1.496   1.5125  1.521   1.5295\n",
      " 1.538   1.5465  1.555   1.62    1.685   1.75    1.815   1.88    0.\n",
      " 0.059   0.118   0.177   0.236   0.295   0.336   0.377   0.418   0.459\n",
      " 0.5     0.52    0.54    0.56    0.58    0.6     0.616   0.632   0.648\n",
      " 0.664   0.68    0.71    0.74    0.77    0.8     0.83    0.849   0.868\n",
      " 0.887   0.906   0.925   0.95    0.975   1.      1.025   1.05    1.06\n",
      " 1.07    1.08    1.09    1.1     1.1075  1.115   1.1225  1.13    1.1375\n",
      " 1.1425  1.1475  1.1525  1.1575  1.1625  1.17    1.1775  1.185   1.1925\n",
      " 1.2     1.225   1.25    1.275   1.3     1.325   0.      0.0175  0.035\n",
      " 0.0525  0.07    0.0875  0.095   0.1025  0.11    0.1175  0.125   0.13\n",
      " 0.135   0.14    0.145   0.15    0.155   0.16    0.165   0.17    0.175\n",
      " 0.189   0.203   0.217   0.231   0.245   0.251   0.257   0.263   0.269\n",
      " 0.275   0.291   0.307   0.323   0.339   0.355   0.364   0.373   0.382\n",
      " 0.391   0.4     0.4125  0.425   0.4375  0.45    0.4625  0.464   0.4655\n",
      " 0.467   0.4685  0.47    0.481   0.492   0.503   0.514   0.525   0.5525\n",
      " 0.58    0.6075  0.635   0.6625  0.      0.03    0.06    0.09    0.12\n",
      " 0.15    0.1725  0.195   0.2175  0.24    0.2625  0.271   0.2795  0.288\n",
      " 0.2965  0.305   0.324   0.343   0.362   0.381   0.4     0.4225  0.445\n",
      " 0.4675  0.49    0.5125  0.549   0.5855  0.622   0.6585  0.695   0.7435\n",
      " 0.792   0.8405  0.889   0.9375  0.9675  0.9975  1.0275  1.0575  1.0875\n",
      " 1.105   1.1225  1.14    1.1575  1.175   1.1875  1.2     1.2125  1.225\n",
      " 1.2375  1.27    1.3025  1.335   1.3675  1.4     1.48    1.56    1.64\n",
      " 1.72    1.8     0.      0.0225  0.045   0.0675  0.09    0.1125  0.1325\n",
      " 0.1525  0.1725  0.1925  0.2125  0.22    0.2275  0.235   0.2425  0.25\n",
      " 0.2625  0.275   0.2875  0.3     0.3125  0.334   0.3555  0.377   0.3985\n",
      " 0.42    0.446   0.472   0.498   0.524   0.55    0.5925  0.635   0.6775\n",
      " 0.72    0.7625  0.79    0.8175  0.845   0.8725  0.9     0.916   0.932\n",
      " 0.948   0.964   0.98    1.004   1.028   1.052   1.076   1.1     1.115\n",
      " 1.13    1.145   1.16    1.175   1.245   1.315   1.385   1.455   1.525\n",
      " 0.      0.0175  0.035   0.0525  0.07    0.0875  0.095   0.1025  0.11\n",
      " 0.1175  0.125   0.1275  0.13    0.1325  0.135   0.1375  0.149   0.1605\n",
      " 0.172   0.1835  0.195   0.1985  0.202   0.2055  0.209   0.2125  0.2175\n",
      " 0.2225  0.2275  0.2325  0.2375  0.25    0.2625  0.275   0.2875  0.3\n",
      " 0.31    0.32    0.33    0.34    0.35    0.355   0.36    0.365   0.37\n",
      " 0.375   0.38    0.385   0.39    0.395   0.4     0.4025  0.405   0.4075\n",
      " 0.41    0.4125  0.435   0.4575  0.48    0.5025  0.525   0.      0.01\n",
      " 0.02    0.03    0.04    0.05    0.065   0.08    0.095   0.11    0.125\n",
      " 0.1275  0.13    0.1325  0.135   0.1375  0.144   0.1505  0.157   0.1635\n",
      " 0.17    0.185   0.2     0.215   0.23    0.245   0.251   0.257   0.263\n",
      " 0.269   0.275   0.2925  0.31    0.3275  0.345   0.3625  0.375   0.3875\n",
      " 0.4     0.4125  0.425   0.4325  0.44    0.4475  0.455   0.4625  0.47\n",
      " 0.4775  0.485   0.4925  0.5     0.505   0.51    0.515   0.52    0.525\n",
      " 0.56    0.595   0.63    0.665   0.7     0.      0.01    0.02    0.03\n",
      " 0.04    0.05    0.065   0.08    0.095   0.11    0.125   0.139   0.153\n",
      " 0.167   0.181   0.195   0.206   0.217   0.228   0.239   0.25    0.27\n",
      " 0.29    0.31    0.33    0.35    0.3725  0.395   0.4175  0.44    0.4625\n",
      " 0.486   0.5095  0.533   0.5565  0.58    0.6     0.62    0.64    0.66\n",
      " 0.68    0.693   0.706   0.719   0.732   0.745   0.7565  0.768   0.7795\n",
      " 0.791   0.8025  0.8095  0.8165  0.8235  0.8305  0.8375  0.89    0.9425\n",
      " 0.995   1.0475  1.1    ]\n",
      "Há 6 Descritores possíveis:\n",
      "\n",
      "['Cement' 'Sand' 'Water' '√t/√s' 'Bacteria' 'Fiber']\n"
     ]
    }
   ],
   "source": [
    "#Preparing the data for ML\n",
    "y = dados['Water absorption'].values #values to train\n",
    "x = dados.drop('Water absorption', axis=1) #descriptors\n",
    "print(y) \n",
    "print(\"Há {} Descritores possíveis:\\n\\n{}\".format(x.shape[1], x.columns.values))"
   ]
  },
  {
   "cell_type": "code",
   "execution_count": 15,
   "id": "f435ad88",
   "metadata": {},
   "outputs": [],
   "source": [
    "#Correlation between variables\n",
    "#Creating a Correlation Plot\n",
    "\n",
    "def visualize_correlation_matrix(data, hurdle = 0.0):\n",
    "    R = np.corrcoef(data, rowvar = 0)\n",
    "    R[np.where(np.abs(R) < hurdle)] = 0.0\n",
    "    heatmap = plt.pcolor(R, cmap = mpl.cm.coolwarm, alpha = 0.8)\n",
    "    heatmap.axes.set_frame_on(False)\n",
    "    heatmap.axes.set_yticks(np.arange(R.shape[0]) + 0.5, minor = False)\n",
    "    heatmap.axes.set_xticks(np.arange(R.shape[1]) + 0.5, minor = False)\n",
    "    heatmap.axes.set_xticklabels(variables, minor = False)\n",
    "    plt.xticks(rotation=90)\n",
    "    heatmap.axes.set_yticklabels(variables, minor = False)\n",
    "    plt.tick_params(axis = 'both', which = 'both', bottom = 'off', top = 'off', left = 'off', right = 'off') \n",
    "    plt.colorbar()\n",
    "    plt.show()"
   ]
  },
  {
   "cell_type": "code",
   "execution_count": 16,
   "id": "b6db11d0",
   "metadata": {},
   "outputs": [
    {
     "name": "stdout",
     "output_type": "stream",
     "text": [
      "          Cement  Sand         Water         √t/√s      Bacteria         Fiber\n",
      "Cement       NaN   NaN           NaN           NaN           NaN           NaN\n",
      "Sand         NaN   NaN           NaN           NaN           NaN           NaN\n",
      "Water        NaN   NaN  1.000000e+00  8.064259e-17 -9.284767e-01  5.093619e-17\n",
      "√t/√s        NaN   NaN  8.064259e-17  1.000000e+00 -7.601236e-17 -9.132575e-18\n",
      "Bacteria     NaN   NaN -9.284767e-01 -7.601236e-17  1.000000e+00  1.160030e-01\n",
      "Fiber        NaN   NaN  5.093619e-17 -9.132575e-18  1.160030e-01  1.000000e+00\n"
     ]
    }
   ],
   "source": [
    "matriz_corr = x.corr()\n",
    "print (matriz_corr)"
   ]
  },
  {
   "cell_type": "code",
   "execution_count": 17,
   "id": "1c022d7a",
   "metadata": {},
   "outputs": [],
   "source": [
    "#Correlation showed that cement and sand do not matter"
   ]
  },
  {
   "cell_type": "code",
   "execution_count": 18,
   "id": "4f173175",
   "metadata": {},
   "outputs": [],
   "source": [
    "dados = dados.drop([\"Cement\", \"Sand\", \"Water\"], axis = 1)"
   ]
  },
  {
   "cell_type": "code",
   "execution_count": 19,
   "id": "f9bd0da1",
   "metadata": {},
   "outputs": [
    {
     "data": {
      "text/html": [
       "<div>\n",
       "<style scoped>\n",
       "    .dataframe tbody tr th:only-of-type {\n",
       "        vertical-align: middle;\n",
       "    }\n",
       "\n",
       "    .dataframe tbody tr th {\n",
       "        vertical-align: top;\n",
       "    }\n",
       "\n",
       "    .dataframe thead th {\n",
       "        text-align: right;\n",
       "    }\n",
       "</style>\n",
       "<table border=\"1\" class=\"dataframe\">\n",
       "  <thead>\n",
       "    <tr style=\"text-align: right;\">\n",
       "      <th></th>\n",
       "      <th>√t/√s</th>\n",
       "      <th>Bacteria</th>\n",
       "      <th>Fiber</th>\n",
       "      <th>Water absorption</th>\n",
       "    </tr>\n",
       "  </thead>\n",
       "  <tbody>\n",
       "    <tr>\n",
       "      <th>0</th>\n",
       "      <td>0.00</td>\n",
       "      <td>0</td>\n",
       "      <td>0</td>\n",
       "      <td>0.00000</td>\n",
       "    </tr>\n",
       "    <tr>\n",
       "      <th>1</th>\n",
       "      <td>1.54</td>\n",
       "      <td>0</td>\n",
       "      <td>0</td>\n",
       "      <td>0.05812</td>\n",
       "    </tr>\n",
       "    <tr>\n",
       "      <th>2</th>\n",
       "      <td>3.08</td>\n",
       "      <td>0</td>\n",
       "      <td>0</td>\n",
       "      <td>0.11624</td>\n",
       "    </tr>\n",
       "    <tr>\n",
       "      <th>3</th>\n",
       "      <td>4.62</td>\n",
       "      <td>0</td>\n",
       "      <td>0</td>\n",
       "      <td>0.17437</td>\n",
       "    </tr>\n",
       "    <tr>\n",
       "      <th>4</th>\n",
       "      <td>6.16</td>\n",
       "      <td>0</td>\n",
       "      <td>0</td>\n",
       "      <td>0.23249</td>\n",
       "    </tr>\n",
       "  </tbody>\n",
       "</table>\n",
       "</div>"
      ],
      "text/plain": [
       "   √t/√s  Bacteria  Fiber  Water absorption\n",
       "0   0.00         0      0           0.00000\n",
       "1   1.54         0      0           0.05812\n",
       "2   3.08         0      0           0.11624\n",
       "3   4.62         0      0           0.17437\n",
       "4   6.16         0      0           0.23249"
      ]
     },
     "execution_count": 19,
     "metadata": {},
     "output_type": "execute_result"
    }
   ],
   "source": [
    "dados.head()"
   ]
  },
  {
   "cell_type": "code",
   "execution_count": 20,
   "id": "6348f255",
   "metadata": {},
   "outputs": [
    {
     "data": {
      "text/html": [
       "<div>\n",
       "<style scoped>\n",
       "    .dataframe tbody tr th:only-of-type {\n",
       "        vertical-align: middle;\n",
       "    }\n",
       "\n",
       "    .dataframe tbody tr th {\n",
       "        vertical-align: top;\n",
       "    }\n",
       "\n",
       "    .dataframe thead th {\n",
       "        text-align: right;\n",
       "    }\n",
       "</style>\n",
       "<table border=\"1\" class=\"dataframe\">\n",
       "  <thead>\n",
       "    <tr style=\"text-align: right;\">\n",
       "      <th></th>\n",
       "      <th>√t/√s</th>\n",
       "      <th>Bacteria</th>\n",
       "      <th>Fiber</th>\n",
       "    </tr>\n",
       "  </thead>\n",
       "  <tbody>\n",
       "    <tr>\n",
       "      <th>0</th>\n",
       "      <td>0.00</td>\n",
       "      <td>0</td>\n",
       "      <td>0</td>\n",
       "    </tr>\n",
       "    <tr>\n",
       "      <th>1</th>\n",
       "      <td>1.54</td>\n",
       "      <td>0</td>\n",
       "      <td>0</td>\n",
       "    </tr>\n",
       "    <tr>\n",
       "      <th>2</th>\n",
       "      <td>3.08</td>\n",
       "      <td>0</td>\n",
       "      <td>0</td>\n",
       "    </tr>\n",
       "    <tr>\n",
       "      <th>3</th>\n",
       "      <td>4.62</td>\n",
       "      <td>0</td>\n",
       "      <td>0</td>\n",
       "    </tr>\n",
       "    <tr>\n",
       "      <th>4</th>\n",
       "      <td>6.16</td>\n",
       "      <td>0</td>\n",
       "      <td>0</td>\n",
       "    </tr>\n",
       "  </tbody>\n",
       "</table>\n",
       "</div>"
      ],
      "text/plain": [
       "   √t/√s  Bacteria  Fiber\n",
       "0   0.00         0      0\n",
       "1   1.54         0      0\n",
       "2   3.08         0      0\n",
       "3   4.62         0      0\n",
       "4   6.16         0      0"
      ]
     },
     "execution_count": 20,
     "metadata": {},
     "output_type": "execute_result"
    }
   ],
   "source": [
    "X = dados.drop('Water absorption', axis=1) #descriptors\n",
    "RX = X.copy()\n",
    "RX.head()"
   ]
  },
  {
   "cell_type": "code",
   "execution_count": 21,
   "id": "d247cbf1",
   "metadata": {},
   "outputs": [
    {
     "name": "stderr",
     "output_type": "stream",
     "text": [
      "/Users/jmpessoa/opt/anaconda3/lib/python3.8/site-packages/statsmodels/tsa/tsatools.py:142: FutureWarning: In a future version of pandas all arguments of concat except for the argument 'objs' will be keyword-only\n",
      "  x = pd.concat(x[::order], 1)\n"
     ]
    }
   ],
   "source": [
    "RX = sm.add_constant(RX)"
   ]
  },
  {
   "cell_type": "code",
   "execution_count": 22,
   "id": "ab860b23",
   "metadata": {},
   "outputs": [
    {
     "data": {
      "text/html": [
       "<div>\n",
       "<style scoped>\n",
       "    .dataframe tbody tr th:only-of-type {\n",
       "        vertical-align: middle;\n",
       "    }\n",
       "\n",
       "    .dataframe tbody tr th {\n",
       "        vertical-align: top;\n",
       "    }\n",
       "\n",
       "    .dataframe thead th {\n",
       "        text-align: right;\n",
       "    }\n",
       "</style>\n",
       "<table border=\"1\" class=\"dataframe\">\n",
       "  <thead>\n",
       "    <tr style=\"text-align: right;\">\n",
       "      <th></th>\n",
       "      <th>const</th>\n",
       "      <th>√t/√s</th>\n",
       "      <th>Bacteria</th>\n",
       "      <th>Fiber</th>\n",
       "    </tr>\n",
       "  </thead>\n",
       "  <tbody>\n",
       "    <tr>\n",
       "      <th>0</th>\n",
       "      <td>1.0</td>\n",
       "      <td>0.00</td>\n",
       "      <td>0</td>\n",
       "      <td>0</td>\n",
       "    </tr>\n",
       "    <tr>\n",
       "      <th>1</th>\n",
       "      <td>1.0</td>\n",
       "      <td>1.54</td>\n",
       "      <td>0</td>\n",
       "      <td>0</td>\n",
       "    </tr>\n",
       "    <tr>\n",
       "      <th>2</th>\n",
       "      <td>1.0</td>\n",
       "      <td>3.08</td>\n",
       "      <td>0</td>\n",
       "      <td>0</td>\n",
       "    </tr>\n",
       "    <tr>\n",
       "      <th>3</th>\n",
       "      <td>1.0</td>\n",
       "      <td>4.62</td>\n",
       "      <td>0</td>\n",
       "      <td>0</td>\n",
       "    </tr>\n",
       "    <tr>\n",
       "      <th>4</th>\n",
       "      <td>1.0</td>\n",
       "      <td>6.16</td>\n",
       "      <td>0</td>\n",
       "      <td>0</td>\n",
       "    </tr>\n",
       "  </tbody>\n",
       "</table>\n",
       "</div>"
      ],
      "text/plain": [
       "   const  √t/√s  Bacteria  Fiber\n",
       "0    1.0   0.00         0      0\n",
       "1    1.0   1.54         0      0\n",
       "2    1.0   3.08         0      0\n",
       "3    1.0   4.62         0      0\n",
       "4    1.0   6.16         0      0"
      ]
     },
     "execution_count": 22,
     "metadata": {},
     "output_type": "execute_result"
    }
   ],
   "source": [
    "RX.head()"
   ]
  },
  {
   "cell_type": "code",
   "execution_count": 23,
   "id": "21fbdff5",
   "metadata": {},
   "outputs": [
    {
     "name": "stdout",
     "output_type": "stream",
     "text": [
      "[[-1.32441269 -0.92847669 -1.09321633]\n",
      " [-1.29680135 -0.92847669 -1.09321633]\n",
      " [-1.26919001 -0.92847669 -1.09321633]\n",
      " ...\n",
      " [ 1.96560424  1.29986737  1.71791138]\n",
      " [ 2.18391332  1.29986737  1.71791138]\n",
      " [ 2.40222204  1.29986737  1.71791138]]\n"
     ]
    }
   ],
   "source": [
    "#Scale the data\n",
    "stdScaler = StandardScaler()\n",
    " \n",
    "\n",
    "# Transform z = (x - u) /s\n",
    "X1 = stdScaler.fit_transform(X) \n",
    "print(X1)"
   ]
  },
  {
   "cell_type": "code",
   "execution_count": 25,
   "id": "34d70dae",
   "metadata": {},
   "outputs": [],
   "source": [
    "colunas = [\"√t/√s\",\"Bacteria\",\"Fiber\"]\n",
    "X = pd.DataFrame(X1, columns = colunas)"
   ]
  },
  {
   "cell_type": "code",
   "execution_count": 26,
   "id": "5d4f8ba5",
   "metadata": {},
   "outputs": [
    {
     "data": {
      "text/html": [
       "<div>\n",
       "<style scoped>\n",
       "    .dataframe tbody tr th:only-of-type {\n",
       "        vertical-align: middle;\n",
       "    }\n",
       "\n",
       "    .dataframe tbody tr th {\n",
       "        vertical-align: top;\n",
       "    }\n",
       "\n",
       "    .dataframe thead th {\n",
       "        text-align: right;\n",
       "    }\n",
       "</style>\n",
       "<table border=\"1\" class=\"dataframe\">\n",
       "  <thead>\n",
       "    <tr style=\"text-align: right;\">\n",
       "      <th></th>\n",
       "      <th>√t/√s</th>\n",
       "      <th>Bacteria</th>\n",
       "      <th>Fiber</th>\n",
       "    </tr>\n",
       "  </thead>\n",
       "  <tbody>\n",
       "    <tr>\n",
       "      <th>0</th>\n",
       "      <td>-1.324413</td>\n",
       "      <td>-0.928477</td>\n",
       "      <td>-1.093216</td>\n",
       "    </tr>\n",
       "    <tr>\n",
       "      <th>1</th>\n",
       "      <td>-1.296801</td>\n",
       "      <td>-0.928477</td>\n",
       "      <td>-1.093216</td>\n",
       "    </tr>\n",
       "    <tr>\n",
       "      <th>2</th>\n",
       "      <td>-1.269190</td>\n",
       "      <td>-0.928477</td>\n",
       "      <td>-1.093216</td>\n",
       "    </tr>\n",
       "    <tr>\n",
       "      <th>3</th>\n",
       "      <td>-1.241579</td>\n",
       "      <td>-0.928477</td>\n",
       "      <td>-1.093216</td>\n",
       "    </tr>\n",
       "    <tr>\n",
       "      <th>4</th>\n",
       "      <td>-1.213967</td>\n",
       "      <td>-0.928477</td>\n",
       "      <td>-1.093216</td>\n",
       "    </tr>\n",
       "  </tbody>\n",
       "</table>\n",
       "</div>"
      ],
      "text/plain": [
       "      √t/√s  Bacteria     Fiber\n",
       "0 -1.324413 -0.928477 -1.093216\n",
       "1 -1.296801 -0.928477 -1.093216\n",
       "2 -1.269190 -0.928477 -1.093216\n",
       "3 -1.241579 -0.928477 -1.093216\n",
       "4 -1.213967 -0.928477 -1.093216"
      ]
     },
     "execution_count": 26,
     "metadata": {},
     "output_type": "execute_result"
    }
   ],
   "source": [
    "X.head()"
   ]
  },
  {
   "cell_type": "code",
   "execution_count": 27,
   "id": "c3176555",
   "metadata": {},
   "outputs": [
    {
     "name": "stdout",
     "output_type": "stream",
     "text": [
      "                 √t/√s      Bacteria         Fiber\n",
      "√t/√s     1.000000e+00 -5.156774e-17 -2.548053e-17\n",
      "Bacteria -5.156774e-17  1.000000e+00  1.160030e-01\n",
      "Fiber    -2.548053e-17  1.160030e-01  1.000000e+00\n"
     ]
    }
   ],
   "source": [
    "matriz_corr = X.corr()\n",
    "print (matriz_corr)"
   ]
  },
  {
   "cell_type": "code",
   "execution_count": 28,
   "id": "4dce4004",
   "metadata": {},
   "outputs": [
    {
     "data": {
      "image/png": "[encoded data removed]",
      "text/plain": [
       "<Figure size 432x288 with 2 Axes>"
      ]
     },
     "metadata": {
      "needs_background": "light"
     },
     "output_type": "display_data"
    }
   ],
   "source": [
    "#Generating number of observations and variables\n",
    "observations = len(dados)\n",
    "variables = dados.columns[:-1]\n",
    "visualize_correlation_matrix(X, hurdle = 0.5)"
   ]
  },
  {
   "cell_type": "code",
   "execution_count": 29,
   "id": "22f30313",
   "metadata": {},
   "outputs": [
    {
     "data": {
      "text/html": [
       "<div>\n",
       "<style scoped>\n",
       "    .dataframe tbody tr th:only-of-type {\n",
       "        vertical-align: middle;\n",
       "    }\n",
       "\n",
       "    .dataframe tbody tr th {\n",
       "        vertical-align: top;\n",
       "    }\n",
       "\n",
       "    .dataframe thead th {\n",
       "        text-align: right;\n",
       "    }\n",
       "</style>\n",
       "<table border=\"1\" class=\"dataframe\">\n",
       "  <thead>\n",
       "    <tr style=\"text-align: right;\">\n",
       "      <th></th>\n",
       "      <th>√t/√s</th>\n",
       "      <th>Bacteria</th>\n",
       "      <th>Fiber</th>\n",
       "    </tr>\n",
       "  </thead>\n",
       "  <tbody>\n",
       "    <tr>\n",
       "      <th>0</th>\n",
       "      <td>-1.324413</td>\n",
       "      <td>-0.928477</td>\n",
       "      <td>-1.093216</td>\n",
       "    </tr>\n",
       "    <tr>\n",
       "      <th>1</th>\n",
       "      <td>-1.296801</td>\n",
       "      <td>-0.928477</td>\n",
       "      <td>-1.093216</td>\n",
       "    </tr>\n",
       "    <tr>\n",
       "      <th>2</th>\n",
       "      <td>-1.269190</td>\n",
       "      <td>-0.928477</td>\n",
       "      <td>-1.093216</td>\n",
       "    </tr>\n",
       "    <tr>\n",
       "      <th>3</th>\n",
       "      <td>-1.241579</td>\n",
       "      <td>-0.928477</td>\n",
       "      <td>-1.093216</td>\n",
       "    </tr>\n",
       "    <tr>\n",
       "      <th>4</th>\n",
       "      <td>-1.213967</td>\n",
       "      <td>-0.928477</td>\n",
       "      <td>-1.093216</td>\n",
       "    </tr>\n",
       "  </tbody>\n",
       "</table>\n",
       "</div>"
      ],
      "text/plain": [
       "      √t/√s  Bacteria     Fiber\n",
       "0 -1.324413 -0.928477 -1.093216\n",
       "1 -1.296801 -0.928477 -1.093216\n",
       "2 -1.269190 -0.928477 -1.093216\n",
       "3 -1.241579 -0.928477 -1.093216\n",
       "4 -1.213967 -0.928477 -1.093216"
      ]
     },
     "execution_count": 29,
     "metadata": {},
     "output_type": "execute_result"
    }
   ],
   "source": [
    "X.head()"
   ]
  },
  {
   "cell_type": "code",
   "execution_count": 30,
   "id": "de68e3d6",
   "metadata": {},
   "outputs": [],
   "source": [
    "#Multiple Linear Regression\n",
    "#Split into training and test data\n",
    "X_train, X_test, y_train, y_test = train_test_split(X, y, test_size=0.2, random_state = 42)\n",
    "rX_train, rX_test, ry_train, ry_test = train_test_split(RX, y, test_size=0.2, random_state = 42)"
   ]
  },
  {
   "cell_type": "code",
   "execution_count": 31,
   "id": "86798884",
   "metadata": {},
   "outputs": [],
   "source": [
    "ols = sm.OLS(ry_train, rX_train)"
   ]
  },
  {
   "cell_type": "code",
   "execution_count": 32,
   "id": "c35c43ec",
   "metadata": {},
   "outputs": [],
   "source": [
    "results = ols.fit()"
   ]
  },
  {
   "cell_type": "code",
   "execution_count": 33,
   "id": "9c0b772c",
   "metadata": {},
   "outputs": [
    {
     "name": "stdout",
     "output_type": "stream",
     "text": [
      "                            OLS Regression Results                            \n",
      "==============================================================================\n",
      "Dep. Variable:                      y   R-squared:                       0.625\n",
      "Model:                            OLS   Adj. R-squared:                  0.623\n",
      "Method:                 Least Squares   F-statistic:                     322.1\n",
      "Date:                Mon, 03 Jul 2023   Prob (F-statistic):          4.00e-123\n",
      "Time:                        10:31:35   Log-Likelihood:                -83.183\n",
      "No. Observations:                 585   AIC:                             174.4\n",
      "Df Residuals:                     581   BIC:                             191.9\n",
      "Df Model:                           3                                         \n",
      "Covariance Type:            nonrobust                                         \n",
      "==============================================================================\n",
      "                 coef    std err          t      P>|t|      [0.025      0.975]\n",
      "------------------------------------------------------------------------------\n",
      "const          0.4641      0.025     18.558      0.000       0.415       0.513\n",
      "√t/√s          0.0055      0.000     26.198      0.000       0.005       0.006\n",
      "Bacteria      -0.1610      0.013    -12.393      0.000      -0.187      -0.135\n",
      "Fiber         -0.0903      0.011     -8.251      0.000      -0.112      -0.069\n",
      "==============================================================================\n",
      "Omnibus:                       25.206   Durbin-Watson:                   1.998\n",
      "Prob(Omnibus):                  0.000   Jarque-Bera (JB):               26.450\n",
      "Skew:                          -0.496   Prob(JB):                     1.80e-06\n",
      "Kurtosis:                       2.679   Cond. No.                         206.\n",
      "==============================================================================\n",
      "\n",
      "Notes:\n",
      "[1] Standard Errors assume that the covariance matrix of the errors is correctly specified.\n"
     ]
    }
   ],
   "source": [
    "print(results.summary())"
   ]
  },
  {
   "cell_type": "code",
   "execution_count": 34,
   "id": "63b724d4",
   "metadata": {},
   "outputs": [],
   "source": [
    "#Create the model\n",
    "modelo = LinearRegression()"
   ]
  },
  {
   "cell_type": "code",
   "execution_count": 35,
   "id": "4a0557c3",
   "metadata": {},
   "outputs": [],
   "source": [
    "#Train the model\n",
    "modelo_v2 = modelo.fit(rX_train, ry_train)"
   ]
  },
  {
   "cell_type": "code",
   "execution_count": 36,
   "id": "d6097277",
   "metadata": {},
   "outputs": [],
   "source": [
    "pred2 = modelo_v2.predict(rX_test)"
   ]
  },
  {
   "cell_type": "code",
   "execution_count": 37,
   "id": "17ebc368",
   "metadata": {},
   "outputs": [
    {
     "data": {
      "text/plain": [
       "0.5476631459594916"
      ]
     },
     "execution_count": 37,
     "metadata": {},
     "output_type": "execute_result"
    }
   ],
   "source": [
    "#Calculate the R2 metric of the model\n",
    "r2_score(ry_test, modelo_v2.fit(rX_train, ry_train).predict(rX_test))"
   ]
  },
  {
   "cell_type": "code",
   "execution_count": 38,
   "id": "b5b37593",
   "metadata": {},
   "outputs": [],
   "source": [
    "#FUNCTION TO SHOW R2 ON THE GRAPH\n",
    "def annotate(data, **kws):\n",
    "    r, p = sp.stats.pearsonr(data['Water absorption'], data['Predicted'])\n",
    "    r = float(r) ** 2\n",
    "    err = mean_squared_error(data['Water absorption'], data['Predicted'], squared=True)\n",
    "    ax = plt.gca()\n",
    "    #ax.setxlabel(\"Area\")\n",
    "    ax.text(.05, .8, 'r2={:.3f}, p={:.6f}, RMSE={:.4f}'.format(r, p, err),\n",
    "            transform=ax.transAxes)"
   ]
  },
  {
   "cell_type": "code",
   "execution_count": 39,
   "id": "6b7a87e4",
   "metadata": {},
   "outputs": [
    {
     "data": {
      "image/png": "[encoded data removed]",
      "text/plain": [
       "<Figure size 360x360 with 1 Axes>"
      ]
     },
     "metadata": {
      "needs_background": "light"
     },
     "output_type": "display_data"
    }
   ],
   "source": [
    "#Visualization Multiple Linear Regression\n",
    "#Plot\n",
    "df = pd.DataFrame()\n",
    "df['Water absorption'] = y_test\n",
    "df['Predicted'] = pred2\n",
    "\n",
    "g = sns.lmplot(x = 'Water absorption', y = 'Predicted', data = df, ci = 90)\n",
    "g.map_dataframe(annotate)\n",
    "plt.show()"
   ]
  },
  {
   "cell_type": "code",
   "execution_count": 40,
   "id": "71e011f4",
   "metadata": {},
   "outputs": [
    {
     "name": "stdout",
     "output_type": "stream",
     "text": [
      "Coefficients: \n",
      " [ 0.          0.00548979 -0.16099757 -0.09034921]\n",
      "Mean squared error: 0.088\n"
     ]
    }
   ],
   "source": [
    "# The coefficients\n",
    "print(\"Coefficients: \\n\", modelo_v2.coef_)\n",
    "# The mean squared error\n",
    "print(\"Mean squared error: %.3f\" % mean_squared_error(y_test, pred2))"
   ]
  },
  {
   "cell_type": "code",
   "execution_count": 41,
   "id": "56a98262",
   "metadata": {},
   "outputs": [
    {
     "data": {
      "text/plain": [
       "0.46413359312983815"
      ]
     },
     "execution_count": 41,
     "metadata": {},
     "output_type": "execute_result"
    }
   ],
   "source": [
    "modelo_v2.intercept_"
   ]
  },
  {
   "cell_type": "code",
   "execution_count": 42,
   "id": "e61d9f44",
   "metadata": {},
   "outputs": [],
   "source": [
    "def printFormulaMLR(coefs, intercept):\n",
    "    formula = \"y = \"\n",
    "    for val in coefs:\n",
    "        if val < 0:\n",
    "            formula = formula + \" - \" + str(abs(val))\n",
    "        else:\n",
    "            formula = formula + \" + \" +str(abs(val))  \n",
    "    \n",
    "    formula = formula + \" + \" + str(intercept)    \n",
    "    return formula"
   ]
  },
  {
   "cell_type": "code",
   "execution_count": 43,
   "id": "28774410",
   "metadata": {},
   "outputs": [
    {
     "name": "stdout",
     "output_type": "stream",
     "text": [
      "y =  + 0.0 + 0.005489794622023661 - 0.16099757468943104 - 0.09034921117479369 + 0.46413359312983815\n"
     ]
    }
   ],
   "source": [
    "print(printFormulaMLR(modelo_v2.coef_, modelo_v2.intercept_))"
   ]
  },
  {
   "cell_type": "code",
   "execution_count": 44,
   "id": "9ed1c255",
   "metadata": {},
   "outputs": [],
   "source": [
    "#SVM with kernel polynomial\n",
    "#SVM polinomial\n",
    "#SVM sigmoid\n",
    "svr_rbf = SVR(kernel=\"rbf\", C=1, gamma=0.1, epsilon=0.1, max_iter = 10000)\n",
    "svr_poly = SVR(kernel=\"poly\", C=0.5, gamma=0.1, coef0 = 0.15, max_iter = 10000)\n",
    "svr_sig = SVR(kernel=\"sigmoid\", C=0.5, gamma=0.01, coef0 = 0.05, max_iter = 100000)"
   ]
  },
  {
   "cell_type": "code",
   "execution_count": 45,
   "id": "87a535fe",
   "metadata": {},
   "outputs": [
    {
     "data": {
      "text/html": [
       "<style>#sk-container-id-1 {color: black;}#sk-container-id-1 pre{padding: 0;}#sk-container-id-1 div.sk-toggleable {background-color: white;}#sk-container-id-1 label.sk-toggleable__label {cursor: pointer;display: block;width: 100%;margin-bottom: 0;padding: 0.3em;box-sizing: border-box;text-align: center;}#sk-container-id-1 label.sk-toggleable__label-arrow:before {content: \"▸\";float: left;margin-right: 0.25em;color: #696969;}#sk-container-id-1 label.sk-toggleable__label-arrow:hover:before {color: black;}#sk-container-id-1 div.sk-estimator:hover label.sk-toggleable__label-arrow:before {color: black;}#sk-container-id-1 div.sk-toggleable__content {max-height: 0;max-width: 0;overflow: hidden;text-align: left;background-color: #f0f8ff;}#sk-container-id-1 div.sk-toggleable__content pre {margin: 0.2em;color: black;border-radius: 0.25em;background-color: #f0f8ff;}#sk-container-id-1 input.sk-toggleable__control:checked~div.sk-toggleable__content {max-height: 200px;max-width: 100%;overflow: auto;}#sk-container-id-1 input.sk-toggleable__control:checked~label.sk-toggleable__label-arrow:before {content: \"▾\";}#sk-container-id-1 div.sk-estimator input.sk-toggleable__control:checked~label.sk-toggleable__label {background-color: #d4ebff;}#sk-container-id-1 div.sk-label input.sk-toggleable__control:checked~label.sk-toggleable__label {background-color: #d4ebff;}#sk-container-id-1 input.sk-hidden--visually {border: 0;clip: rect(1px 1px 1px 1px);clip: rect(1px, 1px, 1px, 1px);height: 1px;margin: -1px;overflow: hidden;padding: 0;position: absolute;width: 1px;}#sk-container-id-1 div.sk-estimator {font-family: monospace;background-color: #f0f8ff;border: 1px dotted black;border-radius: 0.25em;box-sizing: border-box;margin-bottom: 0.5em;}#sk-container-id-1 div.sk-estimator:hover {background-color: #d4ebff;}#sk-container-id-1 div.sk-parallel-item::after {content: \"\";width: 100%;border-bottom: 1px solid gray;flex-grow: 1;}#sk-container-id-1 div.sk-label:hover label.sk-toggleable__label {background-color: #d4ebff;}#sk-container-id-1 div.sk-serial::before {content: \"\";position: absolute;border-left: 1px solid gray;box-sizing: border-box;top: 0;bottom: 0;left: 50%;z-index: 0;}#sk-container-id-1 div.sk-serial {display: flex;flex-direction: column;align-items: center;background-color: white;padding-right: 0.2em;padding-left: 0.2em;position: relative;}#sk-container-id-1 div.sk-item {position: relative;z-index: 1;}#sk-container-id-1 div.sk-parallel {display: flex;align-items: stretch;justify-content: center;background-color: white;position: relative;}#sk-container-id-1 div.sk-item::before, #sk-container-id-1 div.sk-parallel-item::before {content: \"\";position: absolute;border-left: 1px solid gray;box-sizing: border-box;top: 0;bottom: 0;left: 50%;z-index: -1;}#sk-container-id-1 div.sk-parallel-item {display: flex;flex-direction: column;z-index: 1;position: relative;background-color: white;}#sk-container-id-1 div.sk-parallel-item:first-child::after {align-self: flex-end;width: 50%;}#sk-container-id-1 div.sk-parallel-item:last-child::after {align-self: flex-start;width: 50%;}#sk-container-id-1 div.sk-parallel-item:only-child::after {width: 0;}#sk-container-id-1 div.sk-dashed-wrapped {border: 1px dashed gray;margin: 0 0.4em 0.5em 0.4em;box-sizing: border-box;padding-bottom: 0.4em;background-color: white;}#sk-container-id-1 div.sk-label label {font-family: monospace;font-weight: bold;display: inline-block;line-height: 1.2em;}#sk-container-id-1 div.sk-label-container {text-align: center;}#sk-container-id-1 div.sk-container {/* jupyter's `normalize.less` sets `[hidden] { display: none; }` but bootstrap.min.css set `[hidden] { display: none !important; }` so we also need the `!important` here to be able to override the default hidden behavior on the sphinx rendered scikit-learn.org. See: https://github.com/scikit-learn/scikit-learn/issues/21755 */display: inline-block !important;position: relative;}#sk-container-id-1 div.sk-text-repr-fallback {display: none;}</style><div id=\"sk-container-id-1\" class=\"sk-top-container\"><div class=\"sk-text-repr-fallback\"><pre>SVR(C=1, gamma=0.1, max_iter=10000)</pre><b>In a Jupyter environment, please rerun this cell to show the HTML representation or trust the notebook. <br />On GitHub, the HTML representation is unable to render, please try loading this page with nbviewer.org.</b></div><div class=\"sk-container\" hidden><div class=\"sk-item\"><div class=\"sk-estimator sk-toggleable\"><input class=\"sk-toggleable__control sk-hidden--visually\" id=\"sk-estimator-id-1\" type=\"checkbox\" checked><label for=\"sk-estimator-id-1\" class=\"sk-toggleable__label sk-toggleable__label-arrow\">SVR</label><div class=\"sk-toggleable__content\"><pre>SVR(C=1, gamma=0.1, max_iter=10000)</pre></div></div></div></div></div>"
      ],
      "text/plain": [
       "SVR(C=1, gamma=0.1, max_iter=10000)"
      ]
     },
     "execution_count": 45,
     "metadata": {},
     "output_type": "execute_result"
    }
   ],
   "source": [
    "svr_rbf.fit(X_train,y_train)"
   ]
  },
  {
   "cell_type": "code",
   "execution_count": 46,
   "id": "f11b8458",
   "metadata": {},
   "outputs": [
    {
     "data": {
      "text/html": [
       "<style>#sk-container-id-2 {color: black;}#sk-container-id-2 pre{padding: 0;}#sk-container-id-2 div.sk-toggleable {background-color: white;}#sk-container-id-2 label.sk-toggleable__label {cursor: pointer;display: block;width: 100%;margin-bottom: 0;padding: 0.3em;box-sizing: border-box;text-align: center;}#sk-container-id-2 label.sk-toggleable__label-arrow:before {content: \"▸\";float: left;margin-right: 0.25em;color: #696969;}#sk-container-id-2 label.sk-toggleable__label-arrow:hover:before {color: black;}#sk-container-id-2 div.sk-estimator:hover label.sk-toggleable__label-arrow:before {color: black;}#sk-container-id-2 div.sk-toggleable__content {max-height: 0;max-width: 0;overflow: hidden;text-align: left;background-color: #f0f8ff;}#sk-container-id-2 div.sk-toggleable__content pre {margin: 0.2em;color: black;border-radius: 0.25em;background-color: #f0f8ff;}#sk-container-id-2 input.sk-toggleable__control:checked~div.sk-toggleable__content {max-height: 200px;max-width: 100%;overflow: auto;}#sk-container-id-2 input.sk-toggleable__control:checked~label.sk-toggleable__label-arrow:before {content: \"▾\";}#sk-container-id-2 div.sk-estimator input.sk-toggleable__control:checked~label.sk-toggleable__label {background-color: #d4ebff;}#sk-container-id-2 div.sk-label input.sk-toggleable__control:checked~label.sk-toggleable__label {background-color: #d4ebff;}#sk-container-id-2 input.sk-hidden--visually {border: 0;clip: rect(1px 1px 1px 1px);clip: rect(1px, 1px, 1px, 1px);height: 1px;margin: -1px;overflow: hidden;padding: 0;position: absolute;width: 1px;}#sk-container-id-2 div.sk-estimator {font-family: monospace;background-color: #f0f8ff;border: 1px dotted black;border-radius: 0.25em;box-sizing: border-box;margin-bottom: 0.5em;}#sk-container-id-2 div.sk-estimator:hover {background-color: #d4ebff;}#sk-container-id-2 div.sk-parallel-item::after {content: \"\";width: 100%;border-bottom: 1px solid gray;flex-grow: 1;}#sk-container-id-2 div.sk-label:hover label.sk-toggleable__label {background-color: #d4ebff;}#sk-container-id-2 div.sk-serial::before {content: \"\";position: absolute;border-left: 1px solid gray;box-sizing: border-box;top: 0;bottom: 0;left: 50%;z-index: 0;}#sk-container-id-2 div.sk-serial {display: flex;flex-direction: column;align-items: center;background-color: white;padding-right: 0.2em;padding-left: 0.2em;position: relative;}#sk-container-id-2 div.sk-item {position: relative;z-index: 1;}#sk-container-id-2 div.sk-parallel {display: flex;align-items: stretch;justify-content: center;background-color: white;position: relative;}#sk-container-id-2 div.sk-item::before, #sk-container-id-2 div.sk-parallel-item::before {content: \"\";position: absolute;border-left: 1px solid gray;box-sizing: border-box;top: 0;bottom: 0;left: 50%;z-index: -1;}#sk-container-id-2 div.sk-parallel-item {display: flex;flex-direction: column;z-index: 1;position: relative;background-color: white;}#sk-container-id-2 div.sk-parallel-item:first-child::after {align-self: flex-end;width: 50%;}#sk-container-id-2 div.sk-parallel-item:last-child::after {align-self: flex-start;width: 50%;}#sk-container-id-2 div.sk-parallel-item:only-child::after {width: 0;}#sk-container-id-2 div.sk-dashed-wrapped {border: 1px dashed gray;margin: 0 0.4em 0.5em 0.4em;box-sizing: border-box;padding-bottom: 0.4em;background-color: white;}#sk-container-id-2 div.sk-label label {font-family: monospace;font-weight: bold;display: inline-block;line-height: 1.2em;}#sk-container-id-2 div.sk-label-container {text-align: center;}#sk-container-id-2 div.sk-container {/* jupyter's `normalize.less` sets `[hidden] { display: none; }` but bootstrap.min.css set `[hidden] { display: none !important; }` so we also need the `!important` here to be able to override the default hidden behavior on the sphinx rendered scikit-learn.org. See: https://github.com/scikit-learn/scikit-learn/issues/21755 */display: inline-block !important;position: relative;}#sk-container-id-2 div.sk-text-repr-fallback {display: none;}</style><div id=\"sk-container-id-2\" class=\"sk-top-container\"><div class=\"sk-text-repr-fallback\"><pre>SVR(C=0.5, coef0=0.15, gamma=0.1, kernel=&#x27;poly&#x27;, max_iter=10000)</pre><b>In a Jupyter environment, please rerun this cell to show the HTML representation or trust the notebook. <br />On GitHub, the HTML representation is unable to render, please try loading this page with nbviewer.org.</b></div><div class=\"sk-container\" hidden><div class=\"sk-item\"><div class=\"sk-estimator sk-toggleable\"><input class=\"sk-toggleable__control sk-hidden--visually\" id=\"sk-estimator-id-2\" type=\"checkbox\" checked><label for=\"sk-estimator-id-2\" class=\"sk-toggleable__label sk-toggleable__label-arrow\">SVR</label><div class=\"sk-toggleable__content\"><pre>SVR(C=0.5, coef0=0.15, gamma=0.1, kernel=&#x27;poly&#x27;, max_iter=10000)</pre></div></div></div></div></div>"
      ],
      "text/plain": [
       "SVR(C=0.5, coef0=0.15, gamma=0.1, kernel='poly', max_iter=10000)"
      ]
     },
     "execution_count": 46,
     "metadata": {},
     "output_type": "execute_result"
    }
   ],
   "source": [
    "svr_poly.fit(X_train, y_train)"
   ]
  },
  {
   "cell_type": "code",
   "execution_count": 47,
   "id": "24345469",
   "metadata": {},
   "outputs": [
    {
     "data": {
      "text/html": [
       "<style>#sk-container-id-3 {color: black;}#sk-container-id-3 pre{padding: 0;}#sk-container-id-3 div.sk-toggleable {background-color: white;}#sk-container-id-3 label.sk-toggleable__label {cursor: pointer;display: block;width: 100%;margin-bottom: 0;padding: 0.3em;box-sizing: border-box;text-align: center;}#sk-container-id-3 label.sk-toggleable__label-arrow:before {content: \"▸\";float: left;margin-right: 0.25em;color: #696969;}#sk-container-id-3 label.sk-toggleable__label-arrow:hover:before {color: black;}#sk-container-id-3 div.sk-estimator:hover label.sk-toggleable__label-arrow:before {color: black;}#sk-container-id-3 div.sk-toggleable__content {max-height: 0;max-width: 0;overflow: hidden;text-align: left;background-color: #f0f8ff;}#sk-container-id-3 div.sk-toggleable__content pre {margin: 0.2em;color: black;border-radius: 0.25em;background-color: #f0f8ff;}#sk-container-id-3 input.sk-toggleable__control:checked~div.sk-toggleable__content {max-height: 200px;max-width: 100%;overflow: auto;}#sk-container-id-3 input.sk-toggleable__control:checked~label.sk-toggleable__label-arrow:before {content: \"▾\";}#sk-container-id-3 div.sk-estimator input.sk-toggleable__control:checked~label.sk-toggleable__label {background-color: #d4ebff;}#sk-container-id-3 div.sk-label input.sk-toggleable__control:checked~label.sk-toggleable__label {background-color: #d4ebff;}#sk-container-id-3 input.sk-hidden--visually {border: 0;clip: rect(1px 1px 1px 1px);clip: rect(1px, 1px, 1px, 1px);height: 1px;margin: -1px;overflow: hidden;padding: 0;position: absolute;width: 1px;}#sk-container-id-3 div.sk-estimator {font-family: monospace;background-color: #f0f8ff;border: 1px dotted black;border-radius: 0.25em;box-sizing: border-box;margin-bottom: 0.5em;}#sk-container-id-3 div.sk-estimator:hover {background-color: #d4ebff;}#sk-container-id-3 div.sk-parallel-item::after {content: \"\";width: 100%;border-bottom: 1px solid gray;flex-grow: 1;}#sk-container-id-3 div.sk-label:hover label.sk-toggleable__label {background-color: #d4ebff;}#sk-container-id-3 div.sk-serial::before {content: \"\";position: absolute;border-left: 1px solid gray;box-sizing: border-box;top: 0;bottom: 0;left: 50%;z-index: 0;}#sk-container-id-3 div.sk-serial {display: flex;flex-direction: column;align-items: center;background-color: white;padding-right: 0.2em;padding-left: 0.2em;position: relative;}#sk-container-id-3 div.sk-item {position: relative;z-index: 1;}#sk-container-id-3 div.sk-parallel {display: flex;align-items: stretch;justify-content: center;background-color: white;position: relative;}#sk-container-id-3 div.sk-item::before, #sk-container-id-3 div.sk-parallel-item::before {content: \"\";position: absolute;border-left: 1px solid gray;box-sizing: border-box;top: 0;bottom: 0;left: 50%;z-index: -1;}#sk-container-id-3 div.sk-parallel-item {display: flex;flex-direction: column;z-index: 1;position: relative;background-color: white;}#sk-container-id-3 div.sk-parallel-item:first-child::after {align-self: flex-end;width: 50%;}#sk-container-id-3 div.sk-parallel-item:last-child::after {align-self: flex-start;width: 50%;}#sk-container-id-3 div.sk-parallel-item:only-child::after {width: 0;}#sk-container-id-3 div.sk-dashed-wrapped {border: 1px dashed gray;margin: 0 0.4em 0.5em 0.4em;box-sizing: border-box;padding-bottom: 0.4em;background-color: white;}#sk-container-id-3 div.sk-label label {font-family: monospace;font-weight: bold;display: inline-block;line-height: 1.2em;}#sk-container-id-3 div.sk-label-container {text-align: center;}#sk-container-id-3 div.sk-container {/* jupyter's `normalize.less` sets `[hidden] { display: none; }` but bootstrap.min.css set `[hidden] { display: none !important; }` so we also need the `!important` here to be able to override the default hidden behavior on the sphinx rendered scikit-learn.org. See: https://github.com/scikit-learn/scikit-learn/issues/21755 */display: inline-block !important;position: relative;}#sk-container-id-3 div.sk-text-repr-fallback {display: none;}</style><div id=\"sk-container-id-3\" class=\"sk-top-container\"><div class=\"sk-text-repr-fallback\"><pre>SVR(C=0.5, coef0=0.05, gamma=0.01, kernel=&#x27;sigmoid&#x27;, max_iter=100000)</pre><b>In a Jupyter environment, please rerun this cell to show the HTML representation or trust the notebook. <br />On GitHub, the HTML representation is unable to render, please try loading this page with nbviewer.org.</b></div><div class=\"sk-container\" hidden><div class=\"sk-item\"><div class=\"sk-estimator sk-toggleable\"><input class=\"sk-toggleable__control sk-hidden--visually\" id=\"sk-estimator-id-3\" type=\"checkbox\" checked><label for=\"sk-estimator-id-3\" class=\"sk-toggleable__label sk-toggleable__label-arrow\">SVR</label><div class=\"sk-toggleable__content\"><pre>SVR(C=0.5, coef0=0.05, gamma=0.01, kernel=&#x27;sigmoid&#x27;, max_iter=100000)</pre></div></div></div></div></div>"
      ],
      "text/plain": [
       "SVR(C=0.5, coef0=0.05, gamma=0.01, kernel='sigmoid', max_iter=100000)"
      ]
     },
     "execution_count": 47,
     "metadata": {},
     "output_type": "execute_result"
    }
   ],
   "source": [
    "svr_sig.fit(X_train, y_train)"
   ]
  },
  {
   "cell_type": "code",
   "execution_count": 48,
   "id": "a55c8771",
   "metadata": {},
   "outputs": [],
   "source": [
    "y_pred = pd.DataFrame()\n",
    "y_pred[\"RBF\"] = svr_rbf.predict(X_test)"
   ]
  },
  {
   "cell_type": "code",
   "execution_count": 49,
   "id": "889dbfbb",
   "metadata": {},
   "outputs": [],
   "source": [
    "y_pred[\"POLY\"] = svr_poly.predict(X_test)"
   ]
  },
  {
   "cell_type": "code",
   "execution_count": 50,
   "id": "014914c8",
   "metadata": {},
   "outputs": [],
   "source": [
    "y_pred[\"SIG\"] = svr_sig.predict(X_test)"
   ]
  },
  {
   "cell_type": "code",
   "execution_count": 51,
   "id": "bc8a3703",
   "metadata": {},
   "outputs": [
    {
     "data": {
      "text/html": [
       "<div>\n",
       "<style scoped>\n",
       "    .dataframe tbody tr th:only-of-type {\n",
       "        vertical-align: middle;\n",
       "    }\n",
       "\n",
       "    .dataframe tbody tr th {\n",
       "        vertical-align: top;\n",
       "    }\n",
       "\n",
       "    .dataframe thead th {\n",
       "        text-align: right;\n",
       "    }\n",
       "</style>\n",
       "<table border=\"1\" class=\"dataframe\">\n",
       "  <thead>\n",
       "    <tr style=\"text-align: right;\">\n",
       "      <th></th>\n",
       "      <th>RBF</th>\n",
       "      <th>POLY</th>\n",
       "      <th>SIG</th>\n",
       "    </tr>\n",
       "  </thead>\n",
       "  <tbody>\n",
       "    <tr>\n",
       "      <th>0</th>\n",
       "      <td>0.521059</td>\n",
       "      <td>0.513567</td>\n",
       "      <td>0.924708</td>\n",
       "    </tr>\n",
       "    <tr>\n",
       "      <th>1</th>\n",
       "      <td>1.082709</td>\n",
       "      <td>0.997939</td>\n",
       "      <td>0.867578</td>\n",
       "    </tr>\n",
       "    <tr>\n",
       "      <th>2</th>\n",
       "      <td>1.509320</td>\n",
       "      <td>1.525329</td>\n",
       "      <td>1.353914</td>\n",
       "    </tr>\n",
       "    <tr>\n",
       "      <th>3</th>\n",
       "      <td>0.635084</td>\n",
       "      <td>0.563390</td>\n",
       "      <td>0.631961</td>\n",
       "    </tr>\n",
       "    <tr>\n",
       "      <th>4</th>\n",
       "      <td>0.137655</td>\n",
       "      <td>0.267139</td>\n",
       "      <td>0.233229</td>\n",
       "    </tr>\n",
       "  </tbody>\n",
       "</table>\n",
       "</div>"
      ],
      "text/plain": [
       "        RBF      POLY       SIG\n",
       "0  0.521059  0.513567  0.924708\n",
       "1  1.082709  0.997939  0.867578\n",
       "2  1.509320  1.525329  1.353914\n",
       "3  0.635084  0.563390  0.631961\n",
       "4  0.137655  0.267139  0.233229"
      ]
     },
     "execution_count": 51,
     "metadata": {},
     "output_type": "execute_result"
    }
   ],
   "source": [
    "y_pred.head()"
   ]
  },
  {
   "cell_type": "code",
   "execution_count": 52,
   "id": "13914d15",
   "metadata": {},
   "outputs": [
    {
     "data": {
      "image/png": "[encoded data removed]",
      "text/plain": [
       "<Figure size 360x360 with 1 Axes>"
      ]
     },
     "metadata": {
      "needs_background": "light"
     },
     "output_type": "display_data"
    }
   ],
   "source": [
    "#RBF Visualization\n",
    "#Plot\n",
    "df = pd.DataFrame()\n",
    "df['Water absorption'] = y_test\n",
    "df['Predicted'] = y_pred[\"RBF\"].values\n",
    "\n",
    "g = sns.lmplot(x = 'Water absorption', y = 'Predicted', data = df, ci = 90)\n",
    "g.map_dataframe(annotate)\n",
    "plt.show()"
   ]
  },
  {
   "cell_type": "code",
   "execution_count": 53,
   "id": "ce0ef7ac",
   "metadata": {},
   "outputs": [
    {
     "data": {
      "image/png": "[encoded data removed]",
      "text/plain": [
       "<Figure size 360x360 with 1 Axes>"
      ]
     },
     "metadata": {
      "needs_background": "light"
     },
     "output_type": "display_data"
    }
   ],
   "source": [
    "#Polynomial Visualization\n",
    "#Plot\n",
    "df = pd.DataFrame()\n",
    "df['Water absorption'] = y_test\n",
    "df['Predicted'] = y_pred[\"POLY\"].values\n",
    "\n",
    "g = sns.lmplot(x = 'Water absorption', y = 'Predicted', data = df, ci = 90)\n",
    "g.map_dataframe(annotate)\n",
    "plt.show()"
   ]
  },
  {
   "cell_type": "code",
   "execution_count": 54,
   "id": "d0e518a8",
   "metadata": {},
   "outputs": [
    {
     "data": {
      "image/png": "[encoded data removed]",
      "text/plain": [
       "<Figure size 360x360 with 1 Axes>"
      ]
     },
     "metadata": {
      "needs_background": "light"
     },
     "output_type": "display_data"
    }
   ],
   "source": [
    "#Sigmoid Visualization\n",
    "#Plot\n",
    "df = pd.DataFrame()\n",
    "df['Water absorption'] = y_test\n",
    "df['Predicted'] = y_pred[\"SIG\"].values\n",
    "\n",
    "g = sns.lmplot(x = 'Water absorption', y = 'Predicted', data = df, ci = 90)\n",
    "g.map_dataframe(annotate)\n",
    "plt.show()"
   ]
  },
  {
   "cell_type": "code",
   "execution_count": 55,
   "id": "944eea63",
   "metadata": {},
   "outputs": [
    {
     "name": "stdout",
     "output_type": "stream",
     "text": [
      "R2 Treino RBF:  0.7961853170026165\n",
      "R2 Treino Polynomial:  0.7793959291130815\n",
      "R2 Treino Sigmoid:  0.6164030326349856\n",
      "R2 Teste RBF:  0.7734647030297215\n",
      "R2 Teste Polynomial:  0.762251809278583\n",
      "R2 Teste Sigmoid:  0.5383638894430971\n",
      "RMSE Treino RBF:  0.04223546090955103\n",
      "RMSE Treino Polynomial:  0.04571463878562606\n",
      "RMSE Treino Sigmoid:  0.07949081234925244\n",
      "RMSE Teste RBF:  0.04428337584121057\n",
      "RMSE Teste Polynomial:  0.046475284982479485\n",
      "RMSE Teste Sigmoid:  0.0902411485497912\n",
      "MAE Treino RBF:  0.04223546090955103\n",
      "MAE Treino Polynomial:  0.15567033566503222\n",
      "MAE Treino Sigmoid:  0.22384045444760595\n",
      "MAE Teste RBF:  0.13925115610311656\n",
      "MAE Teste Polynomial:  0.1611536290591419\n",
      "MAE Teste Sigmoid:  0.24176950911417389\n"
     ]
    }
   ],
   "source": [
    "#metricas\n",
    "print(\"R2 Treino RBF: \", r2_score(y_train, svr_rbf.fit(X_train, y_train).predict(X_train)))\n",
    "print(\"R2 Treino Polynomial: \", r2_score(y_train, svr_poly.fit(X_train, y_train).predict(X_train)))\n",
    "print(\"R2 Treino Sigmoid: \", r2_score(y_train, svr_sig.fit(X_train, y_train).predict(X_train)))\n",
    "print(\"R2 Teste RBF: \", r2_score(y_test, svr_rbf.fit(X_train, y_train).predict(X_test)))\n",
    "print(\"R2 Teste Polynomial: \", r2_score(y_test, svr_poly.fit(X_train, y_train).predict(X_test)))\n",
    "print(\"R2 Teste Sigmoid: \", r2_score(y_test, svr_sig.fit(X_train, y_train).predict(X_test)))\n",
    "print(\"RMSE Treino RBF: \", mean_squared_error(y_train, svr_rbf.fit(X_train, y_train).predict(X_train)))\n",
    "print(\"RMSE Treino Polynomial: \", mean_squared_error(y_train, svr_poly.fit(X_train, y_train).predict(X_train)))\n",
    "print(\"RMSE Treino Sigmoid: \", mean_squared_error(y_train, svr_sig.fit(X_train, y_train).predict(X_train)))\n",
    "print(\"RMSE Teste RBF: \", mean_squared_error(y_test, svr_rbf.fit(X_train, y_train).predict(X_test)))\n",
    "print(\"RMSE Teste Polynomial: \", mean_squared_error(y_test, svr_poly.fit(X_train, y_train).predict(X_test)))\n",
    "print(\"RMSE Teste Sigmoid: \", mean_squared_error(y_test, svr_sig.fit(X_train, y_train).predict(X_test)))\n",
    "print(\"MAE Treino RBF: \", mean_squared_error(y_train, svr_rbf.fit(X_train, y_train).predict(X_train)))\n",
    "print(\"MAE Treino Polynomial: \", mean_absolute_error(y_train, svr_poly.fit(X_train, y_train).predict(X_train)))\n",
    "print(\"MAE Treino Sigmoid: \", mean_absolute_error(y_train, svr_sig.fit(X_train, y_train).predict(X_train)))\n",
    "print(\"MAE Teste RBF: \", mean_absolute_error(y_test, svr_rbf.fit(X_train, y_train).predict(X_test)))\n",
    "print(\"MAE Teste Polynomial: \", mean_absolute_error(y_test, svr_poly.fit(X_train, y_train).predict(X_test)))\n",
    "print(\"MAE Teste Sigmoid: \", mean_absolute_error(y_test, svr_sig.fit(X_train, y_train).predict(X_test)))"
   ]
  },
  {
   "cell_type": "code",
   "execution_count": 69,
   "id": "57c63cf1",
   "metadata": {},
   "outputs": [
    {
     "data": {
      "application/vnd.plotly.v1+json": {
       "config": {
        "plotlyServerURL": "https://plot.ly"
       },
       "data": [
        {
         "hovertemplate": "Water absorption=%{x}<br>y=%{y}<extra></extra>",
         "legendgroup": "",
         "marker": {
          "color": "red",
          "opacity": 0.8,
          "size": 3,
          "symbol": "circle"
         },
         "mode": "markers",
         "name": "",
         "orientation": "v",
         "showlegend": false,
         "type": "scatter",
         "x": [
          0.4125,
          1.00138,
          1.62,
          0.695,
          0.23,
          0.11,
          1.08815,
          1.17,
          0.8375,
          0.472,
          0.24,
          1.1625,
          1.36868,
          0.395,
          0.1437,
          0.36276,
          0.27643,
          0.425,
          1.81667,
          0.145,
          0.48,
          0.47,
          1.105,
          0.11496,
          1.33626,
          0.40488,
          0.4166,
          0.22,
          0.391,
          0.768,
          1.09,
          1.379,
          1.1875,
          0.37,
          0.8095,
          0.445,
          0.4075,
          0.2175,
          0.71,
          0.50911,
          0.99272,
          0.12,
          0.2375,
          1.18921,
          0.4625,
          1.05,
          0.18004,
          0.845,
          0.446,
          0.4675,
          0.228,
          1.1425,
          1.1775,
          0.23932,
          0.37523,
          0,
          0.994,
          1.10963,
          1.08221,
          0.2625,
          1.1225,
          1.175,
          0.86099,
          0.385,
          0.1125,
          1.076,
          0.035,
          0.24502,
          0.05748,
          0.1375,
          0.34481,
          1.2415,
          1,
          1.07448,
          0.6075,
          0.9412,
          1.3675,
          1.4465,
          0.79054,
          1.25161,
          0.89,
          0.51989,
          1.245,
          0.63,
          0.925,
          1.0475,
          1.013,
          0.74,
          1.07,
          1.1475,
          0.9288,
          0.4575,
          0.095,
          0.6625,
          0.9425,
          0.6585,
          0.725,
          0.035,
          0.7652,
          1.5307,
          0.257,
          0.31115,
          0.03,
          0.47857,
          0.3807,
          0.5025,
          1.2,
          1.1375,
          0.33,
          0.95299,
          0.32781,
          0.4325,
          1.1275,
          0.7625,
          0.381,
          0.9,
          1.35589,
          0.0525,
          0.16786,
          0.1175,
          0.362,
          0.58,
          0.32686,
          0.11624,
          0.849,
          0.172,
          0.18609,
          0.459,
          1.80873,
          0.195,
          1.75,
          0.059,
          0.167,
          0.693,
          0.40235,
          0.6315,
          0.4175,
          1.14,
          0.21577,
          0.25072,
          0.66138,
          1.16081,
          0.2398,
          0.13816,
          0.77,
          1.38172,
          0.83211
         ],
         "xaxis": "x",
         "y": [
          0.5210591708459849,
          1.0827085623189272,
          1.5093204716136839,
          0.6350835404774592,
          0.13765507604366012,
          0.10719592333512717,
          1.239241830002567,
          1.0758407263925287,
          0.7529311985545102,
          0.5201813717117255,
          0.22377135220560318,
          1.0712032927332715,
          1.0832145404485234,
          0.33552967348958496,
          0.2546195539371421,
          0.4473001126148788,
          0.3596767749991099,
          1.0832145404485234,
          1.5520920433642427,
          0.38799697708199965,
          0.6286311676279444,
          1.2156304988229891,
          1.000992921877213,
          0.23959685972181333,
          1.4462662163750761,
          0.5352012127381738,
          0.49850210215049173,
          0.2588369428007411,
          1.021892156482028,
          0.6682429680505446,
          0.9919089502849759,
          1.2924675705388067,
          1.107071004190995,
          0.46614962302309904,
          0.7122421524166707,
          0.4349418201582146,
          0.5103413351997004,
          0.2768994111810251,
          0.6449469948005753,
          0.5499681371748754,
          0.9380329515971031,
          0.13675866049978214,
          0.33313497352317833,
          0.8515487552906836,
          1.13812342386862,
          0.9375415814872977,
          0.09081348553475466,
          0.9090189354915854,
          0.48990214014463196,
          0.4494086611317972,
          0.4066300694154974,
          1.0492434770358015,
          1.0804016030110368,
          0.23974658115918412,
          0.472756452407077,
          0.35368534659427087,
          0.7502360885362144,
          1.1553940208367135,
          0.611004319325116,
          0.3661022526031035,
          1.023228800043428,
          1.2724881870870997,
          0.8196145200684062,
          0.4808414502458632,
          0.16981056430825303,
          1.1674543464345395,
          0.04474921292868528,
          0.25756438519194846,
          0.20934495965986488,
          0.07118016725635568,
          0.42964637409343487,
          1.3897436090746613,
          0.8931839549927828,
          1.0598937187286,
          1.484131108526331,
          0.8716802445966462,
          1.2450786794028428,
          1.3517517605549279,
          0.7812106053155815,
          0.9484704086175975,
          0.801519728223764,
          0.559840336082126,
          1.3497264480118996,
          0.570916292544787,
          0.8118716976890928,
          0.9503085153857347,
          0.7658070253566812,
          0.6571776728655508,
          0.9666519308706011,
          1.0550125852372438,
          0.9685295522845002,
          0.585945229940002,
          0.16335196451887746,
          1.6194419126800608,
          0.8506177941366353,
          0.6045118755072801,
          0.5499681371748754,
          0.17959373004674317,
          0.34374111922382145,
          1.2432106650736945,
          0.6428744476323888,
          0.38498628891637343,
          -0.015328529655475931,
          0.5358891647945887,
          0.4646674610128949,
          0.67844254130267,
          1.0938221023440327,
          1.0432389374382125,
          0.43036353629913715,
          1.0085309726231495,
          0.40804088842512254,
          0.33278224991659977,
          1.0085309726231495,
          0.8178941712166021,
          0.38681390448961483,
          0.6283023843251453,
          1.4572135535944941,
          0.1958009457028772,
          0.07144680691889604,
          0.3088651333641288,
          0.36770553060775113,
          0.5356559949054549,
          0.4117174454888203,
          0.3890050169958641,
          0.7185885952356736,
          0.20274630119974268,
          0.10427385117901422,
          0.46773574411889063,
          1.7261317766563051,
          0.2235505214132616,
          1.61626727100353,
          0.3399211993509763,
          0.2014946858198241,
          0.5932464280324528,
          0.5274253544776465,
          0.6576875955151739,
          0.35234695337740285,
          1.0451899370126434,
          0.3101580950725267,
          0.27458028272403534,
          0.3088651333641288,
          1.3236506468903977,
          0.32835577137093097,
          0.02812617133207662,
          0.6692390172642265,
          1.1017760569626132,
          0.3733048851500923
         ],
         "yaxis": "y"
        }
       ],
       "layout": {
        "legend": {
         "tracegroupgap": 0
        },
        "margin": {
         "t": 60
        },
        "plot_bgcolor": "white",
        "template": {
         "data": {
          "bar": [
           {
            "error_x": {
             "color": "#2a3f5f"
            },
            "error_y": {
             "color": "#2a3f5f"
            },
            "marker": {
             "line": {
              "color": "#E5ECF6",
              "width": 0.5
             },
             "pattern": {
              "fillmode": "overlay",
              "size": 10,
              "solidity": 0.2
             }
            },
            "type": "bar"
           }
          ],
          "barpolar": [
           {
            "marker": {
             "line": {
              "color": "#E5ECF6",
              "width": 0.5
             },
             "pattern": {
              "fillmode": "overlay",
              "size": 10,
              "solidity": 0.2
             }
            },
            "type": "barpolar"
           }
          ],
          "carpet": [
           {
            "aaxis": {
             "endlinecolor": "#2a3f5f",
             "gridcolor": "white",
             "linecolor": "white",
             "minorgridcolor": "white",
             "startlinecolor": "#2a3f5f"
            },
            "baxis": {
             "endlinecolor": "#2a3f5f",
             "gridcolor": "white",
             "linecolor": "white",
             "minorgridcolor": "white",
             "startlinecolor": "#2a3f5f"
            },
            "type": "carpet"
           }
          ],
          "choropleth": [
           {
            "colorbar": {
             "outlinewidth": 0,
             "ticks": ""
            },
            "type": "choropleth"
           }
          ],
          "contour": [
           {
            "colorbar": {
             "outlinewidth": 0,
             "ticks": ""
            },
            "colorscale": [
             [
              0,
              "#0d0887"
             ],
             [
              0.1111111111111111,
              "#46039f"
             ],
             [
              0.2222222222222222,
              "#7201a8"
             ],
             [
              0.3333333333333333,
              "#9c179e"
             ],
             [
              0.4444444444444444,
              "#bd3786"
             ],
             [
              0.5555555555555556,
              "#d8576b"
             ],
             [
              0.6666666666666666,
              "#ed7953"
             ],
             [
              0.7777777777777778,
              "#fb9f3a"
             ],
             [
              0.8888888888888888,
              "#fdca26"
             ],
             [
              1,
              "#f0f921"
             ]
            ],
            "type": "contour"
           }
          ],
          "contourcarpet": [
           {
            "colorbar": {
             "outlinewidth": 0,
             "ticks": ""
            },
            "type": "contourcarpet"
           }
          ],
          "heatmap": [
           {
            "colorbar": {
             "outlinewidth": 0,
             "ticks": ""
            },
            "colorscale": [
             [
              0,
              "#0d0887"
             ],
             [
              0.1111111111111111,
              "#46039f"
             ],
             [
              0.2222222222222222,
              "#7201a8"
             ],
             [
              0.3333333333333333,
              "#9c179e"
             ],
             [
              0.4444444444444444,
              "#bd3786"
             ],
             [
              0.5555555555555556,
              "#d8576b"
             ],
             [
              0.6666666666666666,
              "#ed7953"
             ],
             [
              0.7777777777777778,
              "#fb9f3a"
             ],
             [
              0.8888888888888888,
              "#fdca26"
             ],
             [
              1,
              "#f0f921"
             ]
            ],
            "type": "heatmap"
           }
          ],
          "heatmapgl": [
           {
            "colorbar": {
             "outlinewidth": 0,
             "ticks": ""
            },
            "colorscale": [
             [
              0,
              "#0d0887"
             ],
             [
              0.1111111111111111,
              "#46039f"
             ],
             [
              0.2222222222222222,
              "#7201a8"
             ],
             [
              0.3333333333333333,
              "#9c179e"
             ],
             [
              0.4444444444444444,
              "#bd3786"
             ],
             [
              0.5555555555555556,
              "#d8576b"
             ],
             [
              0.6666666666666666,
              "#ed7953"
             ],
             [
              0.7777777777777778,
              "#fb9f3a"
             ],
             [
              0.8888888888888888,
              "#fdca26"
             ],
             [
              1,
              "#f0f921"
             ]
            ],
            "type": "heatmapgl"
           }
          ],
          "histogram": [
           {
            "marker": {
             "pattern": {
              "fillmode": "overlay",
              "size": 10,
              "solidity": 0.2
             }
            },
            "type": "histogram"
           }
          ],
          "histogram2d": [
           {
            "colorbar": {
             "outlinewidth": 0,
             "ticks": ""
            },
            "colorscale": [
             [
              0,
              "#0d0887"
             ],
             [
              0.1111111111111111,
              "#46039f"
             ],
             [
              0.2222222222222222,
              "#7201a8"
             ],
             [
              0.3333333333333333,
              "#9c179e"
             ],
             [
              0.4444444444444444,
              "#bd3786"
             ],
             [
              0.5555555555555556,
              "#d8576b"
             ],
             [
              0.6666666666666666,
              "#ed7953"
             ],
             [
              0.7777777777777778,
              "#fb9f3a"
             ],
             [
              0.8888888888888888,
              "#fdca26"
             ],
             [
              1,
              "#f0f921"
             ]
            ],
            "type": "histogram2d"
           }
          ],
          "histogram2dcontour": [
           {
            "colorbar": {
             "outlinewidth": 0,
             "ticks": ""
            },
            "colorscale": [
             [
              0,
              "#0d0887"
             ],
             [
              0.1111111111111111,
              "#46039f"
             ],
             [
              0.2222222222222222,
              "#7201a8"
             ],
             [
              0.3333333333333333,
              "#9c179e"
             ],
             [
              0.4444444444444444,
              "#bd3786"
             ],
             [
              0.5555555555555556,
              "#d8576b"
             ],
             [
              0.6666666666666666,
              "#ed7953"
             ],
             [
              0.7777777777777778,
              "#fb9f3a"
             ],
             [
              0.8888888888888888,
              "#fdca26"
             ],
             [
              1,
              "#f0f921"
             ]
            ],
            "type": "histogram2dcontour"
           }
          ],
          "mesh3d": [
           {
            "colorbar": {
             "outlinewidth": 0,
             "ticks": ""
            },
            "type": "mesh3d"
           }
          ],
          "parcoords": [
           {
            "line": {
             "colorbar": {
              "outlinewidth": 0,
              "ticks": ""
             }
            },
            "type": "parcoords"
           }
          ],
          "pie": [
           {
            "automargin": true,
            "type": "pie"
           }
          ],
          "scatter": [
           {
            "marker": {
             "colorbar": {
              "outlinewidth": 0,
              "ticks": ""
             }
            },
            "type": "scatter"
           }
          ],
          "scatter3d": [
           {
            "line": {
             "colorbar": {
              "outlinewidth": 0,
              "ticks": ""
             }
            },
            "marker": {
             "colorbar": {
              "outlinewidth": 0,
              "ticks": ""
             }
            },
            "type": "scatter3d"
           }
          ],
          "scattercarpet": [
           {
            "marker": {
             "colorbar": {
              "outlinewidth": 0,
              "ticks": ""
             }
            },
            "type": "scattercarpet"
           }
          ],
          "scattergeo": [
           {
            "marker": {
             "colorbar": {
              "outlinewidth": 0,
              "ticks": ""
             }
            },
            "type": "scattergeo"
           }
          ],
          "scattergl": [
           {
            "marker": {
             "colorbar": {
              "outlinewidth": 0,
              "ticks": ""
             }
            },
            "type": "scattergl"
           }
          ],
          "scattermapbox": [
           {
            "marker": {
             "colorbar": {
              "outlinewidth": 0,
              "ticks": ""
             }
            },
            "type": "scattermapbox"
           }
          ],
          "scatterpolar": [
           {
            "marker": {
             "colorbar": {
              "outlinewidth": 0,
              "ticks": ""
             }
            },
            "type": "scatterpolar"
           }
          ],
          "scatterpolargl": [
           {
            "marker": {
             "colorbar": {
              "outlinewidth": 0,
              "ticks": ""
             }
            },
            "type": "scatterpolargl"
           }
          ],
          "scatterternary": [
           {
            "marker": {
             "colorbar": {
              "outlinewidth": 0,
              "ticks": ""
             }
            },
            "type": "scatterternary"
           }
          ],
          "surface": [
           {
            "colorbar": {
             "outlinewidth": 0,
             "ticks": ""
            },
            "colorscale": [
             [
              0,
              "#0d0887"
             ],
             [
              0.1111111111111111,
              "#46039f"
             ],
             [
              0.2222222222222222,
              "#7201a8"
             ],
             [
              0.3333333333333333,
              "#9c179e"
             ],
             [
              0.4444444444444444,
              "#bd3786"
             ],
             [
              0.5555555555555556,
              "#d8576b"
             ],
             [
              0.6666666666666666,
              "#ed7953"
             ],
             [
              0.7777777777777778,
              "#fb9f3a"
             ],
             [
              0.8888888888888888,
              "#fdca26"
             ],
             [
              1,
              "#f0f921"
             ]
            ],
            "type": "surface"
           }
          ],
          "table": [
           {
            "cells": {
             "fill": {
              "color": "#EBF0F8"
             },
             "line": {
              "color": "white"
             }
            },
            "header": {
             "fill": {
              "color": "#C8D4E3"
             },
             "line": {
              "color": "white"
             }
            },
            "type": "table"
           }
          ]
         },
         "layout": {
          "annotationdefaults": {
           "arrowcolor": "#2a3f5f",
           "arrowhead": 0,
           "arrowwidth": 1
          },
          "autotypenumbers": "strict",
          "coloraxis": {
           "colorbar": {
            "outlinewidth": 0,
            "ticks": ""
           }
          },
          "colorscale": {
           "diverging": [
            [
             0,
             "#8e0152"
            ],
            [
             0.1,
             "#c51b7d"
            ],
            [
             0.2,
             "#de77ae"
            ],
            [
             0.3,
             "#f1b6da"
            ],
            [
             0.4,
             "#fde0ef"
            ],
            [
             0.5,
             "#f7f7f7"
            ],
            [
             0.6,
             "#e6f5d0"
            ],
            [
             0.7,
             "#b8e186"
            ],
            [
             0.8,
             "#7fbc41"
            ],
            [
             0.9,
             "#4d9221"
            ],
            [
             1,
             "#276419"
            ]
           ],
           "sequential": [
            [
             0,
             "#0d0887"
            ],
            [
             0.1111111111111111,
             "#46039f"
            ],
            [
             0.2222222222222222,
             "#7201a8"
            ],
            [
             0.3333333333333333,
             "#9c179e"
            ],
            [
             0.4444444444444444,
             "#bd3786"
            ],
            [
             0.5555555555555556,
             "#d8576b"
            ],
            [
             0.6666666666666666,
             "#ed7953"
            ],
            [
             0.7777777777777778,
             "#fb9f3a"
            ],
            [
             0.8888888888888888,
             "#fdca26"
            ],
            [
             1,
             "#f0f921"
            ]
           ],
           "sequentialminus": [
            [
             0,
             "#0d0887"
            ],
            [
             0.1111111111111111,
             "#46039f"
            ],
            [
             0.2222222222222222,
             "#7201a8"
            ],
            [
             0.3333333333333333,
             "#9c179e"
            ],
            [
             0.4444444444444444,
             "#bd3786"
            ],
            [
             0.5555555555555556,
             "#d8576b"
            ],
            [
             0.6666666666666666,
             "#ed7953"
            ],
            [
             0.7777777777777778,
             "#fb9f3a"
            ],
            [
             0.8888888888888888,
             "#fdca26"
            ],
            [
             1,
             "#f0f921"
            ]
           ]
          },
          "colorway": [
           "#636efa",
           "#EF553B",
           "#00cc96",
           "#ab63fa",
           "#FFA15A",
           "#19d3f3",
           "#FF6692",
           "#B6E880",
           "#FF97FF",
           "#FECB52"
          ],
          "font": {
           "color": "#2a3f5f"
          },
          "geo": {
           "bgcolor": "white",
           "lakecolor": "white",
           "landcolor": "#E5ECF6",
           "showlakes": true,
           "showland": true,
           "subunitcolor": "white"
          },
          "hoverlabel": {
           "align": "left"
          },
          "hovermode": "closest",
          "mapbox": {
           "style": "light"
          },
          "paper_bgcolor": "white",
          "plot_bgcolor": "#E5ECF6",
          "polar": {
           "angularaxis": {
            "gridcolor": "white",
            "linecolor": "white",
            "ticks": ""
           },
           "bgcolor": "#E5ECF6",
           "radialaxis": {
            "gridcolor": "white",
            "linecolor": "white",
            "ticks": ""
           }
          },
          "scene": {
           "xaxis": {
            "backgroundcolor": "#E5ECF6",
            "gridcolor": "white",
            "gridwidth": 2,
            "linecolor": "white",
            "showbackground": true,
            "ticks": "",
            "zerolinecolor": "white"
           },
           "yaxis": {
            "backgroundcolor": "#E5ECF6",
            "gridcolor": "white",
            "gridwidth": 2,
            "linecolor": "white",
            "showbackground": true,
            "ticks": "",
            "zerolinecolor": "white"
           },
           "zaxis": {
            "backgroundcolor": "#E5ECF6",
            "gridcolor": "white",
            "gridwidth": 2,
            "linecolor": "white",
            "showbackground": true,
            "ticks": "",
            "zerolinecolor": "white"
           }
          },
          "shapedefaults": {
           "line": {
            "color": "#2a3f5f"
           }
          },
          "ternary": {
           "aaxis": {
            "gridcolor": "white",
            "linecolor": "white",
            "ticks": ""
           },
           "baxis": {
            "gridcolor": "white",
            "linecolor": "white",
            "ticks": ""
           },
           "bgcolor": "#E5ECF6",
           "caxis": {
            "gridcolor": "white",
            "linecolor": "white",
            "ticks": ""
           }
          },
          "title": {
           "x": 0.05
          },
          "xaxis": {
           "automargin": true,
           "gridcolor": "white",
           "linecolor": "white",
           "ticks": "",
           "title": {
            "standoff": 15
           },
           "zerolinecolor": "white",
           "zerolinewidth": 2
          },
          "yaxis": {
           "automargin": true,
           "gridcolor": "white",
           "linecolor": "white",
           "ticks": "",
           "title": {
            "standoff": 15
           },
           "zerolinecolor": "white",
           "zerolinewidth": 2
          }
         }
        },
        "title": {
         "font": {
          "color": "black"
         },
         "text": "Prediction of SVM Test Set"
        },
        "xaxis": {
         "anchor": "y",
         "domain": [
          0,
          1
         ],
         "gridcolor": "lightgrey",
         "gridwidth": 1,
         "linecolor": "black",
         "linewidth": 1,
         "showgrid": true,
         "showline": true,
         "title": {
          "text": "Water absorption"
         },
         "zeroline": true,
         "zerolinecolor": "lightgrey",
         "zerolinewidth": 1
        },
        "yaxis": {
         "anchor": "x",
         "domain": [
          0,
          1
         ],
         "gridcolor": "lightgrey",
         "gridwidth": 1,
         "linecolor": "black",
         "linewidth": 1,
         "showgrid": true,
         "showline": true,
         "title": {
          "text": "y"
         },
         "zeroline": true,
         "zerolinecolor": "lightgrey",
         "zerolinewidth": 1
        }
       }
      },
      "text/html": [
       "<div>                            <div id=\"628c7322-6223-4d1c-845b-78ffbbbdae2c\" class=\"plotly-graph-div\" style=\"height:525px; width:100%;\"></div>            <script type=\"text/javascript\">                require([\"plotly\"], function(Plotly) {                    window.PLOTLYENV=window.PLOTLYENV || {};                                    if (document.getElementById(\"628c7322-6223-4d1c-845b-78ffbbbdae2c\")) {                    Plotly.newPlot(                        \"628c7322-6223-4d1c-845b-78ffbbbdae2c\",                        [{\"hovertemplate\":\"Water absorption=%{x}<br>y=%{y}<extra></extra>\",\"legendgroup\":\"\",\"marker\":{\"color\":\"red\",\"opacity\":0.8,\"size\":3,\"symbol\":\"circle\"},\"mode\":\"markers\",\"name\":\"\",\"orientation\":\"v\",\"showlegend\":false,\"type\":\"scatter\",\"x\":[0.4125,1.00138,1.62,0.695,0.23,0.11,1.08815,1.17,0.8375,0.472,0.24,1.1625,1.36868,0.395,0.1437,0.36276,0.27643,0.425,1.81667,0.145,0.48,0.47,1.105,0.11496,1.33626,0.40488,0.4166,0.22,0.391,0.768,1.09,1.379,1.1875,0.37,0.8095,0.445,0.4075,0.2175,0.71,0.50911,0.99272,0.12,0.2375,1.18921,0.4625,1.05,0.18004,0.845,0.446,0.4675,0.228,1.1425,1.1775,0.23932,0.37523,0.0,0.994,1.10963,1.08221,0.2625,1.1225,1.175,0.86099,0.385,0.1125,1.076,0.035,0.24502,0.05748,0.1375,0.34481,1.2415,1.0,1.07448,0.6075,0.9412,1.3675,1.4465,0.79054,1.25161,0.89,0.51989,1.245,0.63,0.925,1.0475,1.013,0.74,1.07,1.1475,0.9288,0.4575,0.095,0.6625,0.9425,0.6585,0.725,0.035,0.7652,1.5307,0.257,0.31115,0.03,0.47857,0.3807,0.5025,1.2,1.1375,0.33,0.95299,0.32781,0.4325,1.1275,0.7625,0.381,0.9,1.35589,0.0525,0.16786,0.1175,0.362,0.58,0.32686,0.11624,0.849,0.172,0.18609,0.459,1.80873,0.195,1.75,0.059,0.167,0.693,0.40235,0.6315,0.4175,1.14,0.21577,0.25072,0.66138,1.16081,0.2398,0.13816,0.77,1.38172,0.83211],\"xaxis\":\"x\",\"y\":[0.5210591708459849,1.0827085623189272,1.5093204716136839,0.6350835404774592,0.13765507604366012,0.10719592333512717,1.239241830002567,1.0758407263925287,0.7529311985545102,0.5201813717117255,0.22377135220560318,1.0712032927332715,1.0832145404485234,0.33552967348958496,0.2546195539371421,0.4473001126148788,0.3596767749991099,1.0832145404485234,1.5520920433642427,0.38799697708199965,0.6286311676279444,1.2156304988229891,1.000992921877213,0.23959685972181333,1.4462662163750761,0.5352012127381738,0.49850210215049173,0.2588369428007411,1.021892156482028,0.6682429680505446,0.9919089502849759,1.2924675705388067,1.107071004190995,0.46614962302309904,0.7122421524166707,0.4349418201582146,0.5103413351997004,0.2768994111810251,0.6449469948005753,0.5499681371748754,0.9380329515971031,0.13675866049978214,0.33313497352317833,0.8515487552906836,1.13812342386862,0.9375415814872977,0.09081348553475466,0.9090189354915854,0.48990214014463196,0.4494086611317972,0.4066300694154974,1.0492434770358015,1.0804016030110368,0.23974658115918412,0.472756452407077,0.35368534659427087,0.7502360885362144,1.1553940208367135,0.611004319325116,0.3661022526031035,1.023228800043428,1.2724881870870997,0.8196145200684062,0.4808414502458632,0.16981056430825303,1.1674543464345395,0.04474921292868528,0.25756438519194846,0.20934495965986488,0.07118016725635568,0.42964637409343487,1.3897436090746613,0.8931839549927828,1.0598937187286,1.484131108526331,0.8716802445966462,1.2450786794028428,1.3517517605549279,0.7812106053155815,0.9484704086175975,0.801519728223764,0.559840336082126,1.3497264480118996,0.570916292544787,0.8118716976890928,0.9503085153857347,0.7658070253566812,0.6571776728655508,0.9666519308706011,1.0550125852372438,0.9685295522845002,0.585945229940002,0.16335196451887746,1.6194419126800608,0.8506177941366353,0.6045118755072801,0.5499681371748754,0.17959373004674317,0.34374111922382145,1.2432106650736945,0.6428744476323888,0.38498628891637343,-0.015328529655475931,0.5358891647945887,0.4646674610128949,0.67844254130267,1.0938221023440327,1.0432389374382125,0.43036353629913715,1.0085309726231495,0.40804088842512254,0.33278224991659977,1.0085309726231495,0.8178941712166021,0.38681390448961483,0.6283023843251453,1.4572135535944941,0.1958009457028772,0.07144680691889604,0.3088651333641288,0.36770553060775113,0.5356559949054549,0.4117174454888203,0.3890050169958641,0.7185885952356736,0.20274630119974268,0.10427385117901422,0.46773574411889063,1.7261317766563051,0.2235505214132616,1.61626727100353,0.3399211993509763,0.2014946858198241,0.5932464280324528,0.5274253544776465,0.6576875955151739,0.35234695337740285,1.0451899370126434,0.3101580950725267,0.27458028272403534,0.3088651333641288,1.3236506468903977,0.32835577137093097,0.02812617133207662,0.6692390172642265,1.1017760569626132,0.3733048851500923],\"yaxis\":\"y\"}],                        {\"legend\":{\"tracegroupgap\":0},\"margin\":{\"t\":60},\"plot_bgcolor\":\"white\",\"template\":{\"data\":{\"bar\":[{\"error_x\":{\"color\":\"#2a3f5f\"},\"error_y\":{\"color\":\"#2a3f5f\"},\"marker\":{\"line\":{\"color\":\"#E5ECF6\",\"width\":0.5},\"pattern\":{\"fillmode\":\"overlay\",\"size\":10,\"solidity\":0.2}},\"type\":\"bar\"}],\"barpolar\":[{\"marker\":{\"line\":{\"color\":\"#E5ECF6\",\"width\":0.5},\"pattern\":{\"fillmode\":\"overlay\",\"size\":10,\"solidity\":0.2}},\"type\":\"barpolar\"}],\"carpet\":[{\"aaxis\":{\"endlinecolor\":\"#2a3f5f\",\"gridcolor\":\"white\",\"linecolor\":\"white\",\"minorgridcolor\":\"white\",\"startlinecolor\":\"#2a3f5f\"},\"baxis\":{\"endlinecolor\":\"#2a3f5f\",\"gridcolor\":\"white\",\"linecolor\":\"white\",\"minorgridcolor\":\"white\",\"startlinecolor\":\"#2a3f5f\"},\"type\":\"carpet\"}],\"choropleth\":[{\"colorbar\":{\"outlinewidth\":0,\"ticks\":\"\"},\"type\":\"choropleth\"}],\"contour\":[{\"colorbar\":{\"outlinewidth\":0,\"ticks\":\"\"},\"colorscale\":[[0.0,\"#0d0887\"],[0.1111111111111111,\"#46039f\"],[0.2222222222222222,\"#7201a8\"],[0.3333333333333333,\"#9c179e\"],[0.4444444444444444,\"#bd3786\"],[0.5555555555555556,\"#d8576b\"],[0.6666666666666666,\"#ed7953\"],[0.7777777777777778,\"#fb9f3a\"],[0.8888888888888888,\"#fdca26\"],[1.0,\"#f0f921\"]],\"type\":\"contour\"}],\"contourcarpet\":[{\"colorbar\":{\"outlinewidth\":0,\"ticks\":\"\"},\"type\":\"contourcarpet\"}],\"heatmap\":[{\"colorbar\":{\"outlinewidth\":0,\"ticks\":\"\"},\"colorscale\":[[0.0,\"#0d0887\"],[0.1111111111111111,\"#46039f\"],[0.2222222222222222,\"#7201a8\"],[0.3333333333333333,\"#9c179e\"],[0.4444444444444444,\"#bd3786\"],[0.5555555555555556,\"#d8576b\"],[0.6666666666666666,\"#ed7953\"],[0.7777777777777778,\"#fb9f3a\"],[0.8888888888888888,\"#fdca26\"],[1.0,\"#f0f921\"]],\"type\":\"heatmap\"}],\"heatmapgl\":[{\"colorbar\":{\"outlinewidth\":0,\"ticks\":\"\"},\"colorscale\":[[0.0,\"#0d0887\"],[0.1111111111111111,\"#46039f\"],[0.2222222222222222,\"#7201a8\"],[0.3333333333333333,\"#9c179e\"],[0.4444444444444444,\"#bd3786\"],[0.5555555555555556,\"#d8576b\"],[0.6666666666666666,\"#ed7953\"],[0.7777777777777778,\"#fb9f3a\"],[0.8888888888888888,\"#fdca26\"],[1.0,\"#f0f921\"]],\"type\":\"heatmapgl\"}],\"histogram\":[{\"marker\":{\"pattern\":{\"fillmode\":\"overlay\",\"size\":10,\"solidity\":0.2}},\"type\":\"histogram\"}],\"histogram2d\":[{\"colorbar\":{\"outlinewidth\":0,\"ticks\":\"\"},\"colorscale\":[[0.0,\"#0d0887\"],[0.1111111111111111,\"#46039f\"],[0.2222222222222222,\"#7201a8\"],[0.3333333333333333,\"#9c179e\"],[0.4444444444444444,\"#bd3786\"],[0.5555555555555556,\"#d8576b\"],[0.6666666666666666,\"#ed7953\"],[0.7777777777777778,\"#fb9f3a\"],[0.8888888888888888,\"#fdca26\"],[1.0,\"#f0f921\"]],\"type\":\"histogram2d\"}],\"histogram2dcontour\":[{\"colorbar\":{\"outlinewidth\":0,\"ticks\":\"\"},\"colorscale\":[[0.0,\"#0d0887\"],[0.1111111111111111,\"#46039f\"],[0.2222222222222222,\"#7201a8\"],[0.3333333333333333,\"#9c179e\"],[0.4444444444444444,\"#bd3786\"],[0.5555555555555556,\"#d8576b\"],[0.6666666666666666,\"#ed7953\"],[0.7777777777777778,\"#fb9f3a\"],[0.8888888888888888,\"#fdca26\"],[1.0,\"#f0f921\"]],\"type\":\"histogram2dcontour\"}],\"mesh3d\":[{\"colorbar\":{\"outlinewidth\":0,\"ticks\":\"\"},\"type\":\"mesh3d\"}],\"parcoords\":[{\"line\":{\"colorbar\":{\"outlinewidth\":0,\"ticks\":\"\"}},\"type\":\"parcoords\"}],\"pie\":[{\"automargin\":true,\"type\":\"pie\"}],\"scatter\":[{\"marker\":{\"colorbar\":{\"outlinewidth\":0,\"ticks\":\"\"}},\"type\":\"scatter\"}],\"scatter3d\":[{\"line\":{\"colorbar\":{\"outlinewidth\":0,\"ticks\":\"\"}},\"marker\":{\"colorbar\":{\"outlinewidth\":0,\"ticks\":\"\"}},\"type\":\"scatter3d\"}],\"scattercarpet\":[{\"marker\":{\"colorbar\":{\"outlinewidth\":0,\"ticks\":\"\"}},\"type\":\"scattercarpet\"}],\"scattergeo\":[{\"marker\":{\"colorbar\":{\"outlinewidth\":0,\"ticks\":\"\"}},\"type\":\"scattergeo\"}],\"scattergl\":[{\"marker\":{\"colorbar\":{\"outlinewidth\":0,\"ticks\":\"\"}},\"type\":\"scattergl\"}],\"scattermapbox\":[{\"marker\":{\"colorbar\":{\"outlinewidth\":0,\"ticks\":\"\"}},\"type\":\"scattermapbox\"}],\"scatterpolar\":[{\"marker\":{\"colorbar\":{\"outlinewidth\":0,\"ticks\":\"\"}},\"type\":\"scatterpolar\"}],\"scatterpolargl\":[{\"marker\":{\"colorbar\":{\"outlinewidth\":0,\"ticks\":\"\"}},\"type\":\"scatterpolargl\"}],\"scatterternary\":[{\"marker\":{\"colorbar\":{\"outlinewidth\":0,\"ticks\":\"\"}},\"type\":\"scatterternary\"}],\"surface\":[{\"colorbar\":{\"outlinewidth\":0,\"ticks\":\"\"},\"colorscale\":[[0.0,\"#0d0887\"],[0.1111111111111111,\"#46039f\"],[0.2222222222222222,\"#7201a8\"],[0.3333333333333333,\"#9c179e\"],[0.4444444444444444,\"#bd3786\"],[0.5555555555555556,\"#d8576b\"],[0.6666666666666666,\"#ed7953\"],[0.7777777777777778,\"#fb9f3a\"],[0.8888888888888888,\"#fdca26\"],[1.0,\"#f0f921\"]],\"type\":\"surface\"}],\"table\":[{\"cells\":{\"fill\":{\"color\":\"#EBF0F8\"},\"line\":{\"color\":\"white\"}},\"header\":{\"fill\":{\"color\":\"#C8D4E3\"},\"line\":{\"color\":\"white\"}},\"type\":\"table\"}]},\"layout\":{\"annotationdefaults\":{\"arrowcolor\":\"#2a3f5f\",\"arrowhead\":0,\"arrowwidth\":1},\"autotypenumbers\":\"strict\",\"coloraxis\":{\"colorbar\":{\"outlinewidth\":0,\"ticks\":\"\"}},\"colorscale\":{\"diverging\":[[0,\"#8e0152\"],[0.1,\"#c51b7d\"],[0.2,\"#de77ae\"],[0.3,\"#f1b6da\"],[0.4,\"#fde0ef\"],[0.5,\"#f7f7f7\"],[0.6,\"#e6f5d0\"],[0.7,\"#b8e186\"],[0.8,\"#7fbc41\"],[0.9,\"#4d9221\"],[1,\"#276419\"]],\"sequential\":[[0.0,\"#0d0887\"],[0.1111111111111111,\"#46039f\"],[0.2222222222222222,\"#7201a8\"],[0.3333333333333333,\"#9c179e\"],[0.4444444444444444,\"#bd3786\"],[0.5555555555555556,\"#d8576b\"],[0.6666666666666666,\"#ed7953\"],[0.7777777777777778,\"#fb9f3a\"],[0.8888888888888888,\"#fdca26\"],[1.0,\"#f0f921\"]],\"sequentialminus\":[[0.0,\"#0d0887\"],[0.1111111111111111,\"#46039f\"],[0.2222222222222222,\"#7201a8\"],[0.3333333333333333,\"#9c179e\"],[0.4444444444444444,\"#bd3786\"],[0.5555555555555556,\"#d8576b\"],[0.6666666666666666,\"#ed7953\"],[0.7777777777777778,\"#fb9f3a\"],[0.8888888888888888,\"#fdca26\"],[1.0,\"#f0f921\"]]},\"colorway\":[\"#636efa\",\"#EF553B\",\"#00cc96\",\"#ab63fa\",\"#FFA15A\",\"#19d3f3\",\"#FF6692\",\"#B6E880\",\"#FF97FF\",\"#FECB52\"],\"font\":{\"color\":\"#2a3f5f\"},\"geo\":{\"bgcolor\":\"white\",\"lakecolor\":\"white\",\"landcolor\":\"#E5ECF6\",\"showlakes\":true,\"showland\":true,\"subunitcolor\":\"white\"},\"hoverlabel\":{\"align\":\"left\"},\"hovermode\":\"closest\",\"mapbox\":{\"style\":\"light\"},\"paper_bgcolor\":\"white\",\"plot_bgcolor\":\"#E5ECF6\",\"polar\":{\"angularaxis\":{\"gridcolor\":\"white\",\"linecolor\":\"white\",\"ticks\":\"\"},\"bgcolor\":\"#E5ECF6\",\"radialaxis\":{\"gridcolor\":\"white\",\"linecolor\":\"white\",\"ticks\":\"\"}},\"scene\":{\"xaxis\":{\"backgroundcolor\":\"#E5ECF6\",\"gridcolor\":\"white\",\"gridwidth\":2,\"linecolor\":\"white\",\"showbackground\":true,\"ticks\":\"\",\"zerolinecolor\":\"white\"},\"yaxis\":{\"backgroundcolor\":\"#E5ECF6\",\"gridcolor\":\"white\",\"gridwidth\":2,\"linecolor\":\"white\",\"showbackground\":true,\"ticks\":\"\",\"zerolinecolor\":\"white\"},\"zaxis\":{\"backgroundcolor\":\"#E5ECF6\",\"gridcolor\":\"white\",\"gridwidth\":2,\"linecolor\":\"white\",\"showbackground\":true,\"ticks\":\"\",\"zerolinecolor\":\"white\"}},\"shapedefaults\":{\"line\":{\"color\":\"#2a3f5f\"}},\"ternary\":{\"aaxis\":{\"gridcolor\":\"white\",\"linecolor\":\"white\",\"ticks\":\"\"},\"baxis\":{\"gridcolor\":\"white\",\"linecolor\":\"white\",\"ticks\":\"\"},\"bgcolor\":\"#E5ECF6\",\"caxis\":{\"gridcolor\":\"white\",\"linecolor\":\"white\",\"ticks\":\"\"}},\"title\":{\"x\":0.05},\"xaxis\":{\"automargin\":true,\"gridcolor\":\"white\",\"linecolor\":\"white\",\"ticks\":\"\",\"title\":{\"standoff\":15},\"zerolinecolor\":\"white\",\"zerolinewidth\":2},\"yaxis\":{\"automargin\":true,\"gridcolor\":\"white\",\"linecolor\":\"white\",\"ticks\":\"\",\"title\":{\"standoff\":15},\"zerolinecolor\":\"white\",\"zerolinewidth\":2}}},\"title\":{\"font\":{\"color\":\"black\"},\"text\":\"Prediction of SVM Test Set\"},\"xaxis\":{\"anchor\":\"y\",\"domain\":[0.0,1.0],\"gridcolor\":\"lightgrey\",\"gridwidth\":1,\"linecolor\":\"black\",\"linewidth\":1,\"showgrid\":true,\"showline\":true,\"title\":{\"text\":\"Water absorption\"},\"zeroline\":true,\"zerolinecolor\":\"lightgrey\",\"zerolinewidth\":1},\"yaxis\":{\"anchor\":\"x\",\"domain\":[0.0,1.0],\"gridcolor\":\"lightgrey\",\"gridwidth\":1,\"linecolor\":\"black\",\"linewidth\":1,\"showgrid\":true,\"showline\":true,\"title\":{\"text\":\"y\"},\"zeroline\":true,\"zerolinecolor\":\"lightgrey\",\"zerolinewidth\":1}},                        {\"responsive\": true}                    ).then(function(){\n",
       "                            \n",
       "var gd = document.getElementById('628c7322-6223-4d1c-845b-78ffbbbdae2c');\n",
       "var x = new MutationObserver(function (mutations, observer) {{\n",
       "        var display = window.getComputedStyle(gd).display;\n",
       "        if (!display || display === 'none') {{\n",
       "            console.log([gd, 'removed!']);\n",
       "            Plotly.purge(gd);\n",
       "            observer.disconnect();\n",
       "        }}\n",
       "}});\n",
       "\n",
       "// Listen for the removal of the full notebook cells\n",
       "var notebookContainer = gd.closest('#notebook-container');\n",
       "if (notebookContainer) {{\n",
       "    x.observe(notebookContainer, {childList: true});\n",
       "}}\n",
       "\n",
       "// Listen for the clearing of the current output cell\n",
       "var outputEl = gd.closest('.output');\n",
       "if (outputEl) {{\n",
       "    x.observe(outputEl, {childList: true});\n",
       "}}\n",
       "\n",
       "                        })                };                });            </script>        </div>"
      ]
     },
     "metadata": {},
     "output_type": "display_data"
    }
   ],
   "source": [
    "# Create a scatter plot\n",
    "fig = px.scatter(df, x=df['Water absorption'], y=y_pred[\"RBF\"], \n",
    "                 opacity=0.8, color_discrete_sequence=['red'])\n",
    "\n",
    "# Add a best-fit line\n",
    "#fig.add_scatter(x=df['Water absorption'], y=y_pred[\"RBF\"], name='RBF', opacity=0.8)\n",
    "#fig.add_scatter\n",
    "#fig.add_traces(go.Scatter(x=x_range, y=y_svr, name='Support Vector Regression', line=dict(color='red')))\n",
    "#fig.add_traces(go.Scatter(x=x_range, y=y_svr+10, name='+epsilon', line=dict(color='red', dash='dot')))\n",
    "#fig.add_traces(go.Scatter(x=x_range, y=y_svr-10, name='-epsilon', line=dict(color='red', dash='dot')))\n",
    "\n",
    "# Change chart background color\n",
    "fig.update_layout(dict(plot_bgcolor = 'white'))\n",
    "\n",
    "# Update axes lines\n",
    "fig.update_xaxes(showgrid=True, gridwidth=1, gridcolor='lightgrey', \n",
    "                 zeroline=True, zerolinewidth=1, zerolinecolor='lightgrey', \n",
    "                 showline=True, linewidth=1, linecolor='black')\n",
    "\n",
    "fig.update_yaxes(showgrid=True, gridwidth=1, gridcolor='lightgrey', \n",
    "                 zeroline=True, zerolinewidth=1, zerolinecolor='lightgrey', \n",
    "                 showline=True, linewidth=1, linecolor='black')\n",
    "\n",
    "# Set figure title\n",
    "fig.update_layout(title=dict(text=\"Prediction of SVM Test Set\", \n",
    "                             font=dict(color='black')))\n",
    "# Update marker size\n",
    "fig.update_traces(marker=dict(size=3))\n",
    "\n",
    "fig.show()"
   ]
  },
  {
   "cell_type": "code",
   "execution_count": 57,
   "id": "dbe6eb2d",
   "metadata": {},
   "outputs": [],
   "source": [
    "#Random Forest Regressor Model\n",
    "regressor = RandomForestRegressor(n_estimators = 100, random_state = 42)"
   ]
  },
  {
   "cell_type": "code",
   "execution_count": 58,
   "id": "1580a7f1",
   "metadata": {},
   "outputs": [
    {
     "data": {
      "text/html": [
       "<style>#sk-container-id-4 {color: black;}#sk-container-id-4 pre{padding: 0;}#sk-container-id-4 div.sk-toggleable {background-color: white;}#sk-container-id-4 label.sk-toggleable__label {cursor: pointer;display: block;width: 100%;margin-bottom: 0;padding: 0.3em;box-sizing: border-box;text-align: center;}#sk-container-id-4 label.sk-toggleable__label-arrow:before {content: \"▸\";float: left;margin-right: 0.25em;color: #696969;}#sk-container-id-4 label.sk-toggleable__label-arrow:hover:before {color: black;}#sk-container-id-4 div.sk-estimator:hover label.sk-toggleable__label-arrow:before {color: black;}#sk-container-id-4 div.sk-toggleable__content {max-height: 0;max-width: 0;overflow: hidden;text-align: left;background-color: #f0f8ff;}#sk-container-id-4 div.sk-toggleable__content pre {margin: 0.2em;color: black;border-radius: 0.25em;background-color: #f0f8ff;}#sk-container-id-4 input.sk-toggleable__control:checked~div.sk-toggleable__content {max-height: 200px;max-width: 100%;overflow: auto;}#sk-container-id-4 input.sk-toggleable__control:checked~label.sk-toggleable__label-arrow:before {content: \"▾\";}#sk-container-id-4 div.sk-estimator input.sk-toggleable__control:checked~label.sk-toggleable__label {background-color: #d4ebff;}#sk-container-id-4 div.sk-label input.sk-toggleable__control:checked~label.sk-toggleable__label {background-color: #d4ebff;}#sk-container-id-4 input.sk-hidden--visually {border: 0;clip: rect(1px 1px 1px 1px);clip: rect(1px, 1px, 1px, 1px);height: 1px;margin: -1px;overflow: hidden;padding: 0;position: absolute;width: 1px;}#sk-container-id-4 div.sk-estimator {font-family: monospace;background-color: #f0f8ff;border: 1px dotted black;border-radius: 0.25em;box-sizing: border-box;margin-bottom: 0.5em;}#sk-container-id-4 div.sk-estimator:hover {background-color: #d4ebff;}#sk-container-id-4 div.sk-parallel-item::after {content: \"\";width: 100%;border-bottom: 1px solid gray;flex-grow: 1;}#sk-container-id-4 div.sk-label:hover label.sk-toggleable__label {background-color: #d4ebff;}#sk-container-id-4 div.sk-serial::before {content: \"\";position: absolute;border-left: 1px solid gray;box-sizing: border-box;top: 0;bottom: 0;left: 50%;z-index: 0;}#sk-container-id-4 div.sk-serial {display: flex;flex-direction: column;align-items: center;background-color: white;padding-right: 0.2em;padding-left: 0.2em;position: relative;}#sk-container-id-4 div.sk-item {position: relative;z-index: 1;}#sk-container-id-4 div.sk-parallel {display: flex;align-items: stretch;justify-content: center;background-color: white;position: relative;}#sk-container-id-4 div.sk-item::before, #sk-container-id-4 div.sk-parallel-item::before {content: \"\";position: absolute;border-left: 1px solid gray;box-sizing: border-box;top: 0;bottom: 0;left: 50%;z-index: -1;}#sk-container-id-4 div.sk-parallel-item {display: flex;flex-direction: column;z-index: 1;position: relative;background-color: white;}#sk-container-id-4 div.sk-parallel-item:first-child::after {align-self: flex-end;width: 50%;}#sk-container-id-4 div.sk-parallel-item:last-child::after {align-self: flex-start;width: 50%;}#sk-container-id-4 div.sk-parallel-item:only-child::after {width: 0;}#sk-container-id-4 div.sk-dashed-wrapped {border: 1px dashed gray;margin: 0 0.4em 0.5em 0.4em;box-sizing: border-box;padding-bottom: 0.4em;background-color: white;}#sk-container-id-4 div.sk-label label {font-family: monospace;font-weight: bold;display: inline-block;line-height: 1.2em;}#sk-container-id-4 div.sk-label-container {text-align: center;}#sk-container-id-4 div.sk-container {/* jupyter's `normalize.less` sets `[hidden] { display: none; }` but bootstrap.min.css set `[hidden] { display: none !important; }` so we also need the `!important` here to be able to override the default hidden behavior on the sphinx rendered scikit-learn.org. See: https://github.com/scikit-learn/scikit-learn/issues/21755 */display: inline-block !important;position: relative;}#sk-container-id-4 div.sk-text-repr-fallback {display: none;}</style><div id=\"sk-container-id-4\" class=\"sk-top-container\"><div class=\"sk-text-repr-fallback\"><pre>RandomForestRegressor(random_state=42)</pre><b>In a Jupyter environment, please rerun this cell to show the HTML representation or trust the notebook. <br />On GitHub, the HTML representation is unable to render, please try loading this page with nbviewer.org.</b></div><div class=\"sk-container\" hidden><div class=\"sk-item\"><div class=\"sk-estimator sk-toggleable\"><input class=\"sk-toggleable__control sk-hidden--visually\" id=\"sk-estimator-id-4\" type=\"checkbox\" checked><label for=\"sk-estimator-id-4\" class=\"sk-toggleable__label sk-toggleable__label-arrow\">RandomForestRegressor</label><div class=\"sk-toggleable__content\"><pre>RandomForestRegressor(random_state=42)</pre></div></div></div></div></div>"
      ],
      "text/plain": [
       "RandomForestRegressor(random_state=42)"
      ]
     },
     "execution_count": 58,
     "metadata": {},
     "output_type": "execute_result"
    }
   ],
   "source": [
    "regressor.fit(X_train, y_train)"
   ]
  },
  {
   "cell_type": "code",
   "execution_count": 59,
   "id": "425f5328",
   "metadata": {},
   "outputs": [],
   "source": [
    "pred3 = regressor.predict(X_test)"
   ]
  },
  {
   "cell_type": "code",
   "execution_count": 60,
   "id": "cf99aac0",
   "metadata": {},
   "outputs": [
    {
     "data": {
      "text/plain": [
       "(147,)"
      ]
     },
     "execution_count": 60,
     "metadata": {},
     "output_type": "execute_result"
    }
   ],
   "source": [
    "pred3.shape"
   ]
  },
  {
   "cell_type": "code",
   "execution_count": 61,
   "id": "57a53bcd",
   "metadata": {},
   "outputs": [
    {
     "name": "stdout",
     "output_type": "stream",
     "text": [
      "R2 Treino:  0.8666129697822035\n",
      "R2 Teste:  0.6636651892086074\n",
      "RMSE Treino:  0.027641103269665648\n",
      "RMSE Teste:  0.06574710887862999\n",
      "MAE Treino:  0.027641103269665648\n",
      "MAE Teste:  0.12452662473032075\n"
     ]
    }
   ],
   "source": [
    "#Calculate the R2 metric of the model\n",
    "print(\"R2 Treino: \", r2_score(y_train, regressor.fit(X_train, y_train).predict(X_train)))\n",
    "print(\"R2 Teste: \", r2_score(y_test, regressor.fit(X_train, y_train).predict(X_test)))\n",
    "print(\"RMSE Treino: \", mean_squared_error(y_train, regressor.fit(X_train, y_train).predict(X_train)))\n",
    "print(\"RMSE Teste: \", mean_squared_error(y_test, regressor.fit(X_train, y_train).predict(X_test)))\n",
    "print(\"MAE Treino: \", mean_squared_error(y_train, regressor.fit(X_train, y_train).predict(X_train)))\n",
    "print(\"MAE Teste: \", mean_absolute_error(y_test, regressor.fit(X_train, y_train).predict(X_test)))"
   ]
  },
  {
   "cell_type": "code",
   "execution_count": 62,
   "id": "29a7a165",
   "metadata": {},
   "outputs": [
    {
     "name": "stdout",
     "output_type": "stream",
     "text": [
      "[0.61399343 0.18113737 0.2048692 ]\n"
     ]
    },
    {
     "data": {
      "image/png": "[encoded data removed]",
      "text/plain": [
       "<Figure size 864x432 with 2 Axes>"
      ]
     },
     "metadata": {
      "needs_background": "light"
     },
     "output_type": "display_data"
    }
   ],
   "source": [
    "feature_importance = regressor.feature_importances_\n",
    "sorted_idx = np.argsort(feature_importance)\n",
    "print(feature_importance)\n",
    "pos = np.arange(sorted_idx.shape[0]) + 0.5\n",
    "fig = plt.figure(figsize=(12, 6))\n",
    "plt.subplot(1, 2, 1)\n",
    "plt.barh(pos, feature_importance[sorted_idx], align=\"center\")\n",
    "plt.yticks(pos, np.array(X.columns.values.tolist())[sorted_idx])\n",
    "plt.title(\"Feature Importance\")\n",
    "\n",
    "result = permutation_importance(\n",
    "    regressor, X_test, y_test, n_repeats=10, random_state=42, n_jobs=2\n",
    ")\n",
    "sorted_idx = result.importances_mean.argsort()\n",
    "plt.subplot(1, 2, 2)\n",
    "plt.boxplot(\n",
    "    result.importances[sorted_idx].T,\n",
    "    vert=False,\n",
    "    labels=np.array(X.columns.values.tolist())[sorted_idx],\n",
    ")\n",
    "plt.title(\"Permutation Importance (test set)\")\n",
    "fig.tight_layout()\n",
    "plt.show()"
   ]
  },
  {
   "cell_type": "code",
   "execution_count": 63,
   "id": "ac77776b",
   "metadata": {},
   "outputs": [],
   "source": [
    "train_sizes, train_scores, test_scores = learning_curve(regressor, X_train, y_train)"
   ]
  },
  {
   "cell_type": "code",
   "execution_count": 64,
   "id": "003d203a",
   "metadata": {},
   "outputs": [
    {
     "data": {
      "image/png": "[encoded data removed]",
      "text/plain": [
       "<Figure size 432x288 with 1 Axes>"
      ]
     },
     "metadata": {
      "needs_background": "light"
     },
     "output_type": "display_data"
    }
   ],
   "source": [
    "display = LearningCurveDisplay(train_sizes=train_sizes,train_scores=train_scores, test_scores=test_scores, score_name=\"Score\")\n",
    "display.plot()\n",
    "plt.show()"
   ]
  },
  {
   "cell_type": "code",
   "execution_count": 66,
   "id": "c13db4ba",
   "metadata": {},
   "outputs": [],
   "source": [
    "#FUNCTION TO SHOW R2 ON THE GRAPH\n",
    "def annotate_Water_absorption(data, **kws):\n",
    "    r, p = sp.stats.pearsonr(data['Water absorption'], data['Predicted'])\n",
    "    r = float(r) ** 2\n",
    "    err = mean_squared_error(data['Water absorption'], data['Predicted'], squared=True)\n",
    "    ax = plt.gca()\n",
    "    ax.text(.05, .8, 'r2={:.2f}, p={:.6f}, RMSE={:.4f}'.format(r, p, err),\n",
    "            transform=ax.transAxes)"
   ]
  },
  {
   "cell_type": "code",
   "execution_count": 67,
   "id": "09915992",
   "metadata": {},
   "outputs": [
    {
     "data": {
      "image/png": "[encoded data removed]",
      "text/plain": [
       "<Figure size 360x360 with 1 Axes>"
      ]
     },
     "metadata": {
      "needs_background": "light"
     },
     "output_type": "display_data"
    }
   ],
   "source": [
    "#Random Forest Regressor Visualization\n",
    "#Plot\n",
    "df = pd.DataFrame()\n",
    "df['Water absorption'] = y_test\n",
    "df['Predicted'] = pred3\n",
    "\n",
    "g = sns.lmplot(x = 'Water absorption', y = 'Predicted', data = df, ci = 90)\n",
    "g.map_dataframe(annotate)\n",
    "plt.show()"
   ]
  },
  {
   "cell_type": "code",
   "execution_count": 68,
   "id": "1481114b",
   "metadata": {},
   "outputs": [
    {
     "data": {
      "image/png": "[encoded data removed]",
      "text/plain": [
       "<Figure size 864x864 with 2 Axes>"
      ]
     },
     "metadata": {
      "needs_background": "light"
     },
     "output_type": "display_data"
    }
   ],
   "source": [
    "plt.figure(figsize=(12, 12))\n",
    "sns.heatmap(dados.corr(), annot=dados.corr(), cmap='seismic_r')\n",
    "plt.show()"
   ]
  },
  {
   "cell_type": "code",
   "execution_count": null,
   "id": "0d135590",
   "metadata": {},
   "outputs": [],
   "source": []
  }
 ],
 "metadata": {
  "kernelspec": {
   "display_name": "Python 3",
   "language": "python",
   "name": "python3"
  },
  "language_info": {
   "codemirror_mode": {
    "name": "ipython",
    "version": 3
   },
   "file_extension": ".py",
   "mimetype": "text/x-python",
   "name": "python",
   "nbconvert_exporter": "python",
   "pygments_lexer": "ipython3",
   "version": "3.8.8"
  }
 },
 "nbformat": 4,
 "nbformat_minor": 5
}
